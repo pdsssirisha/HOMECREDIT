{
 "cells": [
  {
   "cell_type": "code",
   "execution_count": 1,
   "id": "f132784c-6402-432b-9515-f3897fe14a52",
   "metadata": {
    "execution": {
     "iopub.execute_input": "2025-06-16T12:54:18.973021Z",
     "iopub.status.busy": "2025-06-16T12:54:18.972792Z",
     "iopub.status.idle": "2025-06-16T12:54:25.910236Z",
     "shell.execute_reply": "2025-06-16T12:54:25.909699Z",
     "shell.execute_reply.started": "2025-06-16T12:54:18.973002Z"
    }
   },
   "outputs": [
    {
     "data": {
      "text/html": [
       "<div>\n",
       "<style scoped>\n",
       "    .dataframe tbody tr th:only-of-type {\n",
       "        vertical-align: middle;\n",
       "    }\n",
       "\n",
       "    .dataframe tbody tr th {\n",
       "        vertical-align: top;\n",
       "    }\n",
       "\n",
       "    .dataframe thead th {\n",
       "        text-align: right;\n",
       "    }\n",
       "</style>\n",
       "<table border=\"1\" class=\"dataframe\">\n",
       "  <thead>\n",
       "    <tr style=\"text-align: right;\">\n",
       "      <th></th>\n",
       "      <th>SK_ID_CURR</th>\n",
       "      <th>TARGET</th>\n",
       "      <th>NAME_CONTRACT_TYPE</th>\n",
       "      <th>CODE_GENDER</th>\n",
       "      <th>FLAG_OWN_CAR</th>\n",
       "      <th>FLAG_OWN_REALTY</th>\n",
       "      <th>CNT_CHILDREN</th>\n",
       "      <th>AMT_INCOME_TOTAL</th>\n",
       "      <th>AMT_CREDIT</th>\n",
       "      <th>AMT_ANNUITY</th>\n",
       "      <th>...</th>\n",
       "      <th>FLAG_DOCUMENT_18</th>\n",
       "      <th>FLAG_DOCUMENT_19</th>\n",
       "      <th>FLAG_DOCUMENT_20</th>\n",
       "      <th>FLAG_DOCUMENT_21</th>\n",
       "      <th>AMT_REQ_CREDIT_BUREAU_HOUR</th>\n",
       "      <th>AMT_REQ_CREDIT_BUREAU_DAY</th>\n",
       "      <th>AMT_REQ_CREDIT_BUREAU_WEEK</th>\n",
       "      <th>AMT_REQ_CREDIT_BUREAU_MON</th>\n",
       "      <th>AMT_REQ_CREDIT_BUREAU_QRT</th>\n",
       "      <th>AMT_REQ_CREDIT_BUREAU_YEAR</th>\n",
       "    </tr>\n",
       "  </thead>\n",
       "  <tbody>\n",
       "    <tr>\n",
       "      <th>0</th>\n",
       "      <td>100002</td>\n",
       "      <td>1</td>\n",
       "      <td>Cash loans</td>\n",
       "      <td>M</td>\n",
       "      <td>N</td>\n",
       "      <td>Y</td>\n",
       "      <td>0</td>\n",
       "      <td>202500.0</td>\n",
       "      <td>406597.5</td>\n",
       "      <td>24700.5</td>\n",
       "      <td>...</td>\n",
       "      <td>0</td>\n",
       "      <td>0</td>\n",
       "      <td>0</td>\n",
       "      <td>0</td>\n",
       "      <td>0.0</td>\n",
       "      <td>0.0</td>\n",
       "      <td>0.0</td>\n",
       "      <td>0.0</td>\n",
       "      <td>0.0</td>\n",
       "      <td>1.0</td>\n",
       "    </tr>\n",
       "    <tr>\n",
       "      <th>1</th>\n",
       "      <td>100003</td>\n",
       "      <td>0</td>\n",
       "      <td>Cash loans</td>\n",
       "      <td>F</td>\n",
       "      <td>N</td>\n",
       "      <td>N</td>\n",
       "      <td>0</td>\n",
       "      <td>270000.0</td>\n",
       "      <td>1293502.5</td>\n",
       "      <td>35698.5</td>\n",
       "      <td>...</td>\n",
       "      <td>0</td>\n",
       "      <td>0</td>\n",
       "      <td>0</td>\n",
       "      <td>0</td>\n",
       "      <td>0.0</td>\n",
       "      <td>0.0</td>\n",
       "      <td>0.0</td>\n",
       "      <td>0.0</td>\n",
       "      <td>0.0</td>\n",
       "      <td>0.0</td>\n",
       "    </tr>\n",
       "    <tr>\n",
       "      <th>2</th>\n",
       "      <td>100004</td>\n",
       "      <td>0</td>\n",
       "      <td>Revolving loans</td>\n",
       "      <td>M</td>\n",
       "      <td>Y</td>\n",
       "      <td>Y</td>\n",
       "      <td>0</td>\n",
       "      <td>67500.0</td>\n",
       "      <td>135000.0</td>\n",
       "      <td>6750.0</td>\n",
       "      <td>...</td>\n",
       "      <td>0</td>\n",
       "      <td>0</td>\n",
       "      <td>0</td>\n",
       "      <td>0</td>\n",
       "      <td>0.0</td>\n",
       "      <td>0.0</td>\n",
       "      <td>0.0</td>\n",
       "      <td>0.0</td>\n",
       "      <td>0.0</td>\n",
       "      <td>0.0</td>\n",
       "    </tr>\n",
       "    <tr>\n",
       "      <th>3</th>\n",
       "      <td>100006</td>\n",
       "      <td>0</td>\n",
       "      <td>Cash loans</td>\n",
       "      <td>F</td>\n",
       "      <td>N</td>\n",
       "      <td>Y</td>\n",
       "      <td>0</td>\n",
       "      <td>135000.0</td>\n",
       "      <td>312682.5</td>\n",
       "      <td>29686.5</td>\n",
       "      <td>...</td>\n",
       "      <td>0</td>\n",
       "      <td>0</td>\n",
       "      <td>0</td>\n",
       "      <td>0</td>\n",
       "      <td>NaN</td>\n",
       "      <td>NaN</td>\n",
       "      <td>NaN</td>\n",
       "      <td>NaN</td>\n",
       "      <td>NaN</td>\n",
       "      <td>NaN</td>\n",
       "    </tr>\n",
       "    <tr>\n",
       "      <th>4</th>\n",
       "      <td>100007</td>\n",
       "      <td>0</td>\n",
       "      <td>Cash loans</td>\n",
       "      <td>M</td>\n",
       "      <td>N</td>\n",
       "      <td>Y</td>\n",
       "      <td>0</td>\n",
       "      <td>121500.0</td>\n",
       "      <td>513000.0</td>\n",
       "      <td>21865.5</td>\n",
       "      <td>...</td>\n",
       "      <td>0</td>\n",
       "      <td>0</td>\n",
       "      <td>0</td>\n",
       "      <td>0</td>\n",
       "      <td>0.0</td>\n",
       "      <td>0.0</td>\n",
       "      <td>0.0</td>\n",
       "      <td>0.0</td>\n",
       "      <td>0.0</td>\n",
       "      <td>0.0</td>\n",
       "    </tr>\n",
       "    <tr>\n",
       "      <th>5</th>\n",
       "      <td>100008</td>\n",
       "      <td>0</td>\n",
       "      <td>Cash loans</td>\n",
       "      <td>M</td>\n",
       "      <td>N</td>\n",
       "      <td>Y</td>\n",
       "      <td>0</td>\n",
       "      <td>99000.0</td>\n",
       "      <td>490495.5</td>\n",
       "      <td>27517.5</td>\n",
       "      <td>...</td>\n",
       "      <td>0</td>\n",
       "      <td>0</td>\n",
       "      <td>0</td>\n",
       "      <td>0</td>\n",
       "      <td>0.0</td>\n",
       "      <td>0.0</td>\n",
       "      <td>0.0</td>\n",
       "      <td>0.0</td>\n",
       "      <td>1.0</td>\n",
       "      <td>1.0</td>\n",
       "    </tr>\n",
       "    <tr>\n",
       "      <th>6</th>\n",
       "      <td>100009</td>\n",
       "      <td>0</td>\n",
       "      <td>Cash loans</td>\n",
       "      <td>F</td>\n",
       "      <td>Y</td>\n",
       "      <td>Y</td>\n",
       "      <td>1</td>\n",
       "      <td>171000.0</td>\n",
       "      <td>1560726.0</td>\n",
       "      <td>41301.0</td>\n",
       "      <td>...</td>\n",
       "      <td>0</td>\n",
       "      <td>0</td>\n",
       "      <td>0</td>\n",
       "      <td>0</td>\n",
       "      <td>0.0</td>\n",
       "      <td>0.0</td>\n",
       "      <td>0.0</td>\n",
       "      <td>1.0</td>\n",
       "      <td>1.0</td>\n",
       "      <td>2.0</td>\n",
       "    </tr>\n",
       "    <tr>\n",
       "      <th>7</th>\n",
       "      <td>100010</td>\n",
       "      <td>0</td>\n",
       "      <td>Cash loans</td>\n",
       "      <td>M</td>\n",
       "      <td>Y</td>\n",
       "      <td>Y</td>\n",
       "      <td>0</td>\n",
       "      <td>360000.0</td>\n",
       "      <td>1530000.0</td>\n",
       "      <td>42075.0</td>\n",
       "      <td>...</td>\n",
       "      <td>0</td>\n",
       "      <td>0</td>\n",
       "      <td>0</td>\n",
       "      <td>0</td>\n",
       "      <td>0.0</td>\n",
       "      <td>0.0</td>\n",
       "      <td>0.0</td>\n",
       "      <td>0.0</td>\n",
       "      <td>0.0</td>\n",
       "      <td>0.0</td>\n",
       "    </tr>\n",
       "    <tr>\n",
       "      <th>8</th>\n",
       "      <td>100011</td>\n",
       "      <td>0</td>\n",
       "      <td>Cash loans</td>\n",
       "      <td>F</td>\n",
       "      <td>N</td>\n",
       "      <td>Y</td>\n",
       "      <td>0</td>\n",
       "      <td>112500.0</td>\n",
       "      <td>1019610.0</td>\n",
       "      <td>33826.5</td>\n",
       "      <td>...</td>\n",
       "      <td>0</td>\n",
       "      <td>0</td>\n",
       "      <td>0</td>\n",
       "      <td>0</td>\n",
       "      <td>0.0</td>\n",
       "      <td>0.0</td>\n",
       "      <td>0.0</td>\n",
       "      <td>0.0</td>\n",
       "      <td>0.0</td>\n",
       "      <td>1.0</td>\n",
       "    </tr>\n",
       "    <tr>\n",
       "      <th>9</th>\n",
       "      <td>100012</td>\n",
       "      <td>0</td>\n",
       "      <td>Revolving loans</td>\n",
       "      <td>M</td>\n",
       "      <td>N</td>\n",
       "      <td>Y</td>\n",
       "      <td>0</td>\n",
       "      <td>135000.0</td>\n",
       "      <td>405000.0</td>\n",
       "      <td>20250.0</td>\n",
       "      <td>...</td>\n",
       "      <td>0</td>\n",
       "      <td>0</td>\n",
       "      <td>0</td>\n",
       "      <td>0</td>\n",
       "      <td>NaN</td>\n",
       "      <td>NaN</td>\n",
       "      <td>NaN</td>\n",
       "      <td>NaN</td>\n",
       "      <td>NaN</td>\n",
       "      <td>NaN</td>\n",
       "    </tr>\n",
       "  </tbody>\n",
       "</table>\n",
       "<p>10 rows × 122 columns</p>\n",
       "</div>"
      ],
      "text/plain": [
       "   SK_ID_CURR  TARGET NAME_CONTRACT_TYPE CODE_GENDER FLAG_OWN_CAR  \\\n",
       "0      100002       1         Cash loans           M            N   \n",
       "1      100003       0         Cash loans           F            N   \n",
       "2      100004       0    Revolving loans           M            Y   \n",
       "3      100006       0         Cash loans           F            N   \n",
       "4      100007       0         Cash loans           M            N   \n",
       "5      100008       0         Cash loans           M            N   \n",
       "6      100009       0         Cash loans           F            Y   \n",
       "7      100010       0         Cash loans           M            Y   \n",
       "8      100011       0         Cash loans           F            N   \n",
       "9      100012       0    Revolving loans           M            N   \n",
       "\n",
       "  FLAG_OWN_REALTY  CNT_CHILDREN  AMT_INCOME_TOTAL  AMT_CREDIT  AMT_ANNUITY  \\\n",
       "0               Y             0          202500.0    406597.5      24700.5   \n",
       "1               N             0          270000.0   1293502.5      35698.5   \n",
       "2               Y             0           67500.0    135000.0       6750.0   \n",
       "3               Y             0          135000.0    312682.5      29686.5   \n",
       "4               Y             0          121500.0    513000.0      21865.5   \n",
       "5               Y             0           99000.0    490495.5      27517.5   \n",
       "6               Y             1          171000.0   1560726.0      41301.0   \n",
       "7               Y             0          360000.0   1530000.0      42075.0   \n",
       "8               Y             0          112500.0   1019610.0      33826.5   \n",
       "9               Y             0          135000.0    405000.0      20250.0   \n",
       "\n",
       "   ...  FLAG_DOCUMENT_18 FLAG_DOCUMENT_19 FLAG_DOCUMENT_20 FLAG_DOCUMENT_21  \\\n",
       "0  ...                 0                0                0                0   \n",
       "1  ...                 0                0                0                0   \n",
       "2  ...                 0                0                0                0   \n",
       "3  ...                 0                0                0                0   \n",
       "4  ...                 0                0                0                0   \n",
       "5  ...                 0                0                0                0   \n",
       "6  ...                 0                0                0                0   \n",
       "7  ...                 0                0                0                0   \n",
       "8  ...                 0                0                0                0   \n",
       "9  ...                 0                0                0                0   \n",
       "\n",
       "  AMT_REQ_CREDIT_BUREAU_HOUR AMT_REQ_CREDIT_BUREAU_DAY  \\\n",
       "0                        0.0                       0.0   \n",
       "1                        0.0                       0.0   \n",
       "2                        0.0                       0.0   \n",
       "3                        NaN                       NaN   \n",
       "4                        0.0                       0.0   \n",
       "5                        0.0                       0.0   \n",
       "6                        0.0                       0.0   \n",
       "7                        0.0                       0.0   \n",
       "8                        0.0                       0.0   \n",
       "9                        NaN                       NaN   \n",
       "\n",
       "   AMT_REQ_CREDIT_BUREAU_WEEK  AMT_REQ_CREDIT_BUREAU_MON  \\\n",
       "0                         0.0                        0.0   \n",
       "1                         0.0                        0.0   \n",
       "2                         0.0                        0.0   \n",
       "3                         NaN                        NaN   \n",
       "4                         0.0                        0.0   \n",
       "5                         0.0                        0.0   \n",
       "6                         0.0                        1.0   \n",
       "7                         0.0                        0.0   \n",
       "8                         0.0                        0.0   \n",
       "9                         NaN                        NaN   \n",
       "\n",
       "   AMT_REQ_CREDIT_BUREAU_QRT  AMT_REQ_CREDIT_BUREAU_YEAR  \n",
       "0                        0.0                         1.0  \n",
       "1                        0.0                         0.0  \n",
       "2                        0.0                         0.0  \n",
       "3                        NaN                         NaN  \n",
       "4                        0.0                         0.0  \n",
       "5                        1.0                         1.0  \n",
       "6                        1.0                         2.0  \n",
       "7                        0.0                         0.0  \n",
       "8                        0.0                         1.0  \n",
       "9                        NaN                         NaN  \n",
       "\n",
       "[10 rows x 122 columns]"
      ]
     },
     "execution_count": 1,
     "metadata": {},
     "output_type": "execute_result"
    }
   ],
   "source": [
    "import pandas as pd\n",
    "df = pd.read_csv('s3://xai-datasets-868149537017/data/HC_application_train.csv')\n",
    "df.head(10)"
   ]
  },
  {
   "cell_type": "code",
   "execution_count": 2,
   "id": "eec123f5-53ec-4ff8-9ef7-7d32842a26b2",
   "metadata": {
    "execution": {
     "iopub.execute_input": "2025-06-16T12:54:25.911758Z",
     "iopub.status.busy": "2025-06-16T12:54:25.911384Z",
     "iopub.status.idle": "2025-06-16T12:54:25.960220Z",
     "shell.execute_reply": "2025-06-16T12:54:25.959692Z",
     "shell.execute_reply.started": "2025-06-16T12:54:25.911736Z"
    }
   },
   "outputs": [],
   "source": [
    "final_flnr = [\n",
    "    'FLAG_EMP_PHONE', 'FLAG_WORK_PHONE', 'FLAG_CONT_MOBILE', 'FLAG_PHONE', 'FLAG_EMAIL',\n",
    "    'REGION_RATING_CLIENT', 'REGION_RATING_CLIENT_W_CITY',\n",
    "    'REG_REGION_NOT_LIVE_REGION', 'REG_REGION_NOT_WORK_REGION', 'LIVE_REGION_NOT_WORK_REGION',\n",
    "    'REG_CITY_NOT_LIVE_CITY', 'REG_CITY_NOT_WORK_CITY', 'LIVE_CITY_NOT_WORK_CITY',\n",
    "    'CNT_CHILDREN', 'CNT_FAM_MEMBERS',\n",
    "    'AMT_REQ_CREDIT_BUREAU_YEAR',\n",
    "    'FLAG_DOCUMENT_3'\n",
    "]\n",
    "cats_nlnr_final = [\n",
    "    'NAME_CONTRACT_TYPE', 'CODE_GENDER', 'FLAG_OWN_CAR', 'FLAG_OWN_REALTY',\n",
    "    'NAME_INCOME_TYPE', 'NAME_EDUCATION_TYPE', 'NAME_FAMILY_STATUS',\n",
    "    'NAME_HOUSING_TYPE', 'OCCUPATION_TYPE', 'ORGANIZATION_TYPE'\n",
    "]\n",
    "final_numerical = [\n",
    "    'AMT_INCOME_TOTAL', 'AMT_CREDIT', 'AMT_ANNUITY', 'AMT_GOODS_PRICE',\n",
    "    'REGION_POPULATION_RELATIVE', 'DAYS_BIRTH', 'DAYS_EMPLOYED',\n",
    "    'DAYS_REGISTRATION', 'DAYS_ID_PUBLISH', 'OWN_CAR_AGE',\n",
    "    'EXT_SOURCE_1', 'EXT_SOURCE_2', 'EXT_SOURCE_3', 'DAYS_LAST_PHONE_CHANGE'\n",
    "]\n",
    "final_columns = ['TARGET'] + final_flnr + cats_nlnr_final + final_numerical\n",
    "df_updated=df[final_columns]"
   ]
  },
  {
   "cell_type": "code",
   "execution_count": 3,
   "id": "454097e9-4767-4485-b7c9-2affd9048daf",
   "metadata": {
    "execution": {
     "iopub.execute_input": "2025-06-16T12:54:25.961131Z",
     "iopub.status.busy": "2025-06-16T12:54:25.960866Z",
     "iopub.status.idle": "2025-06-16T12:54:25.965145Z",
     "shell.execute_reply": "2025-06-16T12:54:25.964701Z",
     "shell.execute_reply.started": "2025-06-16T12:54:25.961106Z"
    }
   },
   "outputs": [
    {
     "data": {
      "text/plain": [
       "(307511, 42)"
      ]
     },
     "execution_count": 3,
     "metadata": {},
     "output_type": "execute_result"
    }
   ],
   "source": [
    "df_updated.shape"
   ]
  },
  {
   "cell_type": "code",
   "execution_count": 4,
   "id": "0ecb1228-dc52-43a3-88b5-6acbc647fc64",
   "metadata": {
    "execution": {
     "iopub.execute_input": "2025-06-16T12:54:25.966254Z",
     "iopub.status.busy": "2025-06-16T12:54:25.965772Z",
     "iopub.status.idle": "2025-06-16T12:54:26.006996Z",
     "shell.execute_reply": "2025-06-16T12:54:26.006545Z",
     "shell.execute_reply.started": "2025-06-16T12:54:25.966215Z"
    }
   },
   "outputs": [
    {
     "name": "stdout",
     "output_type": "stream",
     "text": [
      "\n",
      "Column: FLAG_EMP_PHONE\n",
      "FLAG_EMP_PHONE\n",
      "1    252125\n",
      "0     55386\n",
      "Name: count, dtype: int64\n",
      "\n",
      "Column: FLAG_WORK_PHONE\n",
      "FLAG_WORK_PHONE\n",
      "0    246203\n",
      "1     61308\n",
      "Name: count, dtype: int64\n",
      "\n",
      "Column: FLAG_CONT_MOBILE\n",
      "FLAG_CONT_MOBILE\n",
      "1    306937\n",
      "0       574\n",
      "Name: count, dtype: int64\n",
      "\n",
      "Column: FLAG_PHONE\n",
      "FLAG_PHONE\n",
      "0    221080\n",
      "1     86431\n",
      "Name: count, dtype: int64\n",
      "\n",
      "Column: FLAG_EMAIL\n",
      "FLAG_EMAIL\n",
      "0    290069\n",
      "1     17442\n",
      "Name: count, dtype: int64\n",
      "\n",
      "Column: REGION_RATING_CLIENT\n",
      "REGION_RATING_CLIENT\n",
      "2    226984\n",
      "3     48330\n",
      "1     32197\n",
      "Name: count, dtype: int64\n",
      "\n",
      "Column: REGION_RATING_CLIENT_W_CITY\n",
      "REGION_RATING_CLIENT_W_CITY\n",
      "2    229484\n",
      "3     43860\n",
      "1     34167\n",
      "Name: count, dtype: int64\n",
      "\n",
      "Column: REG_REGION_NOT_LIVE_REGION\n",
      "REG_REGION_NOT_LIVE_REGION\n",
      "0    302854\n",
      "1      4657\n",
      "Name: count, dtype: int64\n",
      "\n",
      "Column: REG_REGION_NOT_WORK_REGION\n",
      "REG_REGION_NOT_WORK_REGION\n",
      "0    291899\n",
      "1     15612\n",
      "Name: count, dtype: int64\n",
      "\n",
      "Column: LIVE_REGION_NOT_WORK_REGION\n",
      "LIVE_REGION_NOT_WORK_REGION\n",
      "0    295008\n",
      "1     12503\n",
      "Name: count, dtype: int64\n",
      "\n",
      "Column: REG_CITY_NOT_LIVE_CITY\n",
      "REG_CITY_NOT_LIVE_CITY\n",
      "0    283472\n",
      "1     24039\n",
      "Name: count, dtype: int64\n",
      "\n",
      "Column: REG_CITY_NOT_WORK_CITY\n",
      "REG_CITY_NOT_WORK_CITY\n",
      "0    236644\n",
      "1     70867\n",
      "Name: count, dtype: int64\n",
      "\n",
      "Column: LIVE_CITY_NOT_WORK_CITY\n",
      "LIVE_CITY_NOT_WORK_CITY\n",
      "0    252296\n",
      "1     55215\n",
      "Name: count, dtype: int64\n",
      "\n",
      "Column: CNT_CHILDREN\n",
      "CNT_CHILDREN\n",
      "0     215371\n",
      "1      61119\n",
      "2      26749\n",
      "3       3717\n",
      "4        429\n",
      "5         84\n",
      "6         21\n",
      "7          7\n",
      "14         3\n",
      "9          2\n",
      "8          2\n",
      "10         2\n",
      "12         2\n",
      "19         2\n",
      "11         1\n",
      "Name: count, dtype: int64\n",
      "\n",
      "Column: CNT_FAM_MEMBERS\n",
      "CNT_FAM_MEMBERS\n",
      "2.0     158357\n",
      "1.0      67847\n",
      "3.0      52601\n",
      "4.0      24697\n",
      "5.0       3478\n",
      "6.0        408\n",
      "7.0         81\n",
      "8.0         20\n",
      "9.0          6\n",
      "10.0         3\n",
      "NaN          2\n",
      "14.0         2\n",
      "12.0         2\n",
      "20.0         2\n",
      "16.0         2\n",
      "13.0         1\n",
      "15.0         1\n",
      "11.0         1\n",
      "Name: count, dtype: int64\n",
      "\n",
      "Column: AMT_REQ_CREDIT_BUREAU_YEAR\n",
      "AMT_REQ_CREDIT_BUREAU_YEAR\n",
      "0.0     71801\n",
      "1.0     63405\n",
      "2.0     50192\n",
      "NaN     41519\n",
      "3.0     33628\n",
      "4.0     20714\n",
      "5.0     12052\n",
      "6.0      6967\n",
      "7.0      3869\n",
      "8.0      2127\n",
      "9.0      1096\n",
      "11.0       31\n",
      "12.0       30\n",
      "10.0       22\n",
      "13.0       19\n",
      "14.0       10\n",
      "17.0        7\n",
      "15.0        6\n",
      "18.0        4\n",
      "19.0        4\n",
      "16.0        3\n",
      "25.0        1\n",
      "23.0        1\n",
      "22.0        1\n",
      "21.0        1\n",
      "20.0        1\n",
      "Name: count, dtype: int64\n",
      "\n",
      "Column: FLAG_DOCUMENT_3\n",
      "FLAG_DOCUMENT_3\n",
      "1    218340\n",
      "0     89171\n",
      "Name: count, dtype: int64\n"
     ]
    }
   ],
   "source": [
    "for col in final_flnr:\n",
    "    print(f\"\\nColumn: {col}\")\n",
    "    print(df_updated[col].value_counts(dropna=False))"
   ]
  },
  {
   "cell_type": "code",
   "execution_count": 5,
   "id": "e1a10cac-441a-4ff5-86e4-8460000e2b3a",
   "metadata": {
    "execution": {
     "iopub.execute_input": "2025-06-16T12:54:26.008908Z",
     "iopub.status.busy": "2025-06-16T12:54:26.008590Z",
     "iopub.status.idle": "2025-06-16T12:54:26.019589Z",
     "shell.execute_reply": "2025-06-16T12:54:26.019129Z",
     "shell.execute_reply.started": "2025-06-16T12:54:26.008891Z"
    }
   },
   "outputs": [
    {
     "name": "stderr",
     "output_type": "stream",
     "text": [
      "/tmp/ipykernel_5515/3152875280.py:1: FutureWarning: A value is trying to be set on a copy of a DataFrame or Series through chained assignment using an inplace method.\n",
      "The behavior will change in pandas 3.0. This inplace method will never work because the intermediate object on which we are setting values always behaves as a copy.\n",
      "\n",
      "For example, when doing 'df[col].method(value, inplace=True)', try using 'df.method({col: value}, inplace=True)' or df[col] = df[col].method(value) instead, to perform the operation inplace on the original object.\n",
      "\n",
      "\n",
      "  df_updated['CNT_FAM_MEMBERS'].fillna(df_updated['CNT_FAM_MEMBERS'].median(), inplace=True)\n",
      "/tmp/ipykernel_5515/3152875280.py:1: SettingWithCopyWarning: \n",
      "A value is trying to be set on a copy of a slice from a DataFrame\n",
      "\n",
      "See the caveats in the documentation: https://pandas.pydata.org/pandas-docs/stable/user_guide/indexing.html#returning-a-view-versus-a-copy\n",
      "  df_updated['CNT_FAM_MEMBERS'].fillna(df_updated['CNT_FAM_MEMBERS'].median(), inplace=True)\n",
      "/tmp/ipykernel_5515/3152875280.py:2: FutureWarning: A value is trying to be set on a copy of a DataFrame or Series through chained assignment using an inplace method.\n",
      "The behavior will change in pandas 3.0. This inplace method will never work because the intermediate object on which we are setting values always behaves as a copy.\n",
      "\n",
      "For example, when doing 'df[col].method(value, inplace=True)', try using 'df.method({col: value}, inplace=True)' or df[col] = df[col].method(value) instead, to perform the operation inplace on the original object.\n",
      "\n",
      "\n",
      "  df_updated['AMT_REQ_CREDIT_BUREAU_YEAR'].fillna(0, inplace=True)\n",
      "/tmp/ipykernel_5515/3152875280.py:2: SettingWithCopyWarning: \n",
      "A value is trying to be set on a copy of a slice from a DataFrame\n",
      "\n",
      "See the caveats in the documentation: https://pandas.pydata.org/pandas-docs/stable/user_guide/indexing.html#returning-a-view-versus-a-copy\n",
      "  df_updated['AMT_REQ_CREDIT_BUREAU_YEAR'].fillna(0, inplace=True)\n"
     ]
    }
   ],
   "source": [
    "df_updated['CNT_FAM_MEMBERS'].fillna(df_updated['CNT_FAM_MEMBERS'].median(), inplace=True)\n",
    "df_updated['AMT_REQ_CREDIT_BUREAU_YEAR'].fillna(0, inplace=True)"
   ]
  },
  {
   "cell_type": "code",
   "execution_count": 6,
   "id": "7990dd84-d42d-49ec-8969-a3f919baf646",
   "metadata": {
    "execution": {
     "iopub.execute_input": "2025-06-16T12:54:26.020690Z",
     "iopub.status.busy": "2025-06-16T12:54:26.020205Z",
     "iopub.status.idle": "2025-06-16T12:54:26.029076Z",
     "shell.execute_reply": "2025-06-16T12:54:26.028615Z",
     "shell.execute_reply.started": "2025-06-16T12:54:26.020661Z"
    }
   },
   "outputs": [
    {
     "data": {
      "text/plain": [
       "AMT_REQ_CREDIT_BUREAU_YEAR\n",
       "0.0     113320\n",
       "1.0      63405\n",
       "2.0      50192\n",
       "3.0      33628\n",
       "4.0      20714\n",
       "5.0      12052\n",
       "6.0       6967\n",
       "7.0       3869\n",
       "8.0       2127\n",
       "9.0       1096\n",
       "11.0        31\n",
       "12.0        30\n",
       "10.0        22\n",
       "13.0        19\n",
       "14.0        10\n",
       "17.0         7\n",
       "15.0         6\n",
       "18.0         4\n",
       "19.0         4\n",
       "16.0         3\n",
       "25.0         1\n",
       "23.0         1\n",
       "22.0         1\n",
       "21.0         1\n",
       "20.0         1\n",
       "Name: count, dtype: int64"
      ]
     },
     "execution_count": 6,
     "metadata": {},
     "output_type": "execute_result"
    }
   ],
   "source": [
    "df_updated['AMT_REQ_CREDIT_BUREAU_YEAR'].value_counts(dropna=False)"
   ]
  },
  {
   "cell_type": "code",
   "execution_count": 7,
   "id": "d3c51abf-ba1c-4df2-848b-9127be9df391",
   "metadata": {
    "execution": {
     "iopub.execute_input": "2025-06-16T12:54:26.030160Z",
     "iopub.status.busy": "2025-06-16T12:54:26.029671Z",
     "iopub.status.idle": "2025-06-16T12:54:26.037673Z",
     "shell.execute_reply": "2025-06-16T12:54:26.037214Z",
     "shell.execute_reply.started": "2025-06-16T12:54:26.030135Z"
    }
   },
   "outputs": [
    {
     "data": {
      "text/plain": [
       "CNT_FAM_MEMBERS\n",
       "2.0     158359\n",
       "1.0      67847\n",
       "3.0      52601\n",
       "4.0      24697\n",
       "5.0       3478\n",
       "6.0        408\n",
       "7.0         81\n",
       "8.0         20\n",
       "9.0          6\n",
       "10.0         3\n",
       "14.0         2\n",
       "12.0         2\n",
       "20.0         2\n",
       "16.0         2\n",
       "13.0         1\n",
       "15.0         1\n",
       "11.0         1\n",
       "Name: count, dtype: int64"
      ]
     },
     "execution_count": 7,
     "metadata": {},
     "output_type": "execute_result"
    }
   ],
   "source": [
    "df_updated['CNT_FAM_MEMBERS'].value_counts(dropna=False)"
   ]
  },
  {
   "cell_type": "code",
   "execution_count": 8,
   "id": "84175932-0afb-4bb9-80fb-1323fd00baa2",
   "metadata": {
    "execution": {
     "iopub.execute_input": "2025-06-16T12:54:26.038781Z",
     "iopub.status.busy": "2025-06-16T12:54:26.038292Z",
     "iopub.status.idle": "2025-06-16T12:54:28.524197Z",
     "shell.execute_reply": "2025-06-16T12:54:28.523654Z",
     "shell.execute_reply.started": "2025-06-16T12:54:26.038759Z"
    }
   },
   "outputs": [
    {
     "data": {
      "image/png": "[encoded data removed]",
      "text/plain": [
       "<Figure size 1800x500 with 3 Axes>"
      ]
     },
     "metadata": {},
     "output_type": "display_data"
    }
   ],
   "source": [
    "import matplotlib.pyplot as plt\n",
    "import seaborn as sns\n",
    "features = ['CNT_CHILDREN', 'CNT_FAM_MEMBERS', 'AMT_REQ_CREDIT_BUREAU_YEAR']\n",
    "\n",
    "plt.figure(figsize=(18, 5))\n",
    "\n",
    "for idx, feature in enumerate(features):\n",
    "    plt.subplot(1, 3, idx + 1)\n",
    "    sns.boxplot(y=df_updated[feature], color='lightblue')\n",
    "    plt.title(f'Box Plot of {feature}')\n",
    "    plt.ylabel(feature)\n",
    "    plt.grid(True)\n",
    "\n",
    "plt.tight_layout()\n",
    "plt.show()\n"
   ]
  },
  {
   "cell_type": "code",
   "execution_count": 9,
   "id": "6e4538b2-5875-42ad-8e30-85496850ef75",
   "metadata": {
    "execution": {
     "iopub.execute_input": "2025-06-16T12:54:28.525265Z",
     "iopub.status.busy": "2025-06-16T12:54:28.524794Z",
     "iopub.status.idle": "2025-06-16T12:54:28.540798Z",
     "shell.execute_reply": "2025-06-16T12:54:28.540312Z",
     "shell.execute_reply.started": "2025-06-16T12:54:28.525245Z"
    }
   },
   "outputs": [
    {
     "name": "stderr",
     "output_type": "stream",
     "text": [
      "/tmp/ipykernel_5515/132936208.py:1: SettingWithCopyWarning: \n",
      "A value is trying to be set on a copy of a slice from a DataFrame.\n",
      "Try using .loc[row_indexer,col_indexer] = value instead\n",
      "\n",
      "See the caveats in the documentation: https://pandas.pydata.org/pandas-docs/stable/user_guide/indexing.html#returning-a-view-versus-a-copy\n",
      "  df_updated['HAS_MANY_CHILDREN'] = (df_updated['CNT_CHILDREN'] > 2).astype(int)\n",
      "/tmp/ipykernel_5515/132936208.py:2: SettingWithCopyWarning: \n",
      "A value is trying to be set on a copy of a slice from a DataFrame.\n",
      "Try using .loc[row_indexer,col_indexer] = value instead\n",
      "\n",
      "See the caveats in the documentation: https://pandas.pydata.org/pandas-docs/stable/user_guide/indexing.html#returning-a-view-versus-a-copy\n",
      "  df_updated['CNT_CHILDREN'] = df_updated['CNT_CHILDREN'].clip(upper=2)\n",
      "/tmp/ipykernel_5515/132936208.py:3: SettingWithCopyWarning: \n",
      "A value is trying to be set on a copy of a slice from a DataFrame.\n",
      "Try using .loc[row_indexer,col_indexer] = value instead\n",
      "\n",
      "See the caveats in the documentation: https://pandas.pydata.org/pandas-docs/stable/user_guide/indexing.html#returning-a-view-versus-a-copy\n",
      "  df_updated['HAS_LARGE_FAMILY'] = (df_updated['CNT_FAM_MEMBERS'] > 4).astype(int)\n",
      "/tmp/ipykernel_5515/132936208.py:4: SettingWithCopyWarning: \n",
      "A value is trying to be set on a copy of a slice from a DataFrame.\n",
      "Try using .loc[row_indexer,col_indexer] = value instead\n",
      "\n",
      "See the caveats in the documentation: https://pandas.pydata.org/pandas-docs/stable/user_guide/indexing.html#returning-a-view-versus-a-copy\n",
      "  df_updated['CNT_FAM_MEMBERS'] = df_updated['CNT_FAM_MEMBERS'].clip(upper=4)\n",
      "/tmp/ipykernel_5515/132936208.py:5: SettingWithCopyWarning: \n",
      "A value is trying to be set on a copy of a slice from a DataFrame.\n",
      "Try using .loc[row_indexer,col_indexer] = value instead\n",
      "\n",
      "See the caveats in the documentation: https://pandas.pydata.org/pandas-docs/stable/user_guide/indexing.html#returning-a-view-versus-a-copy\n",
      "  df_updated['HAS_HIGH_CREDIT_REQ'] = (df_updated['AMT_REQ_CREDIT_BUREAU_YEAR'] > 7).astype(int)\n",
      "/tmp/ipykernel_5515/132936208.py:6: SettingWithCopyWarning: \n",
      "A value is trying to be set on a copy of a slice from a DataFrame.\n",
      "Try using .loc[row_indexer,col_indexer] = value instead\n",
      "\n",
      "See the caveats in the documentation: https://pandas.pydata.org/pandas-docs/stable/user_guide/indexing.html#returning-a-view-versus-a-copy\n",
      "  df_updated['AMT_REQ_CREDIT_BUREAU_YEAR'] = df_updated['AMT_REQ_CREDIT_BUREAU_YEAR'].clip(upper=7)\n"
     ]
    }
   ],
   "source": [
    "df_updated['HAS_MANY_CHILDREN'] = (df_updated['CNT_CHILDREN'] > 2).astype(int)\n",
    "df_updated['CNT_CHILDREN'] = df_updated['CNT_CHILDREN'].clip(upper=2)\n",
    "df_updated['HAS_LARGE_FAMILY'] = (df_updated['CNT_FAM_MEMBERS'] > 4).astype(int)\n",
    "df_updated['CNT_FAM_MEMBERS'] = df_updated['CNT_FAM_MEMBERS'].clip(upper=4)\n",
    "df_updated['HAS_HIGH_CREDIT_REQ'] = (df_updated['AMT_REQ_CREDIT_BUREAU_YEAR'] > 7).astype(int)\n",
    "df_updated['AMT_REQ_CREDIT_BUREAU_YEAR'] = df_updated['AMT_REQ_CREDIT_BUREAU_YEAR'].clip(upper=7)"
   ]
  },
  {
   "cell_type": "code",
   "execution_count": 10,
   "id": "016a5259-69e7-499d-9e1d-d7a8c30c2219",
   "metadata": {
    "execution": {
     "iopub.execute_input": "2025-06-16T12:54:28.541507Z",
     "iopub.status.busy": "2025-06-16T12:54:28.541320Z",
     "iopub.status.idle": "2025-06-16T12:54:30.042546Z",
     "shell.execute_reply": "2025-06-16T12:54:30.042059Z",
     "shell.execute_reply.started": "2025-06-16T12:54:28.541490Z"
    }
   },
   "outputs": [
    {
     "data": {
      "image/png": "[encoded data removed]",
      "text/plain": [
       "<Figure size 1800x500 with 3 Axes>"
      ]
     },
     "metadata": {},
     "output_type": "display_data"
    }
   ],
   "source": [
    "\n",
    "plt.figure(figsize=(18, 5))\n",
    "\n",
    "for idx, feature in enumerate(features):\n",
    "    plt.subplot(1, 3, idx + 1)\n",
    "    sns.boxplot(y=df_updated[feature], color='lightblue')\n",
    "    plt.title(f'Box Plot of {feature}')\n",
    "    plt.ylabel(feature)\n",
    "    plt.grid(True)\n",
    "\n",
    "plt.tight_layout()\n",
    "plt.show()"
   ]
  },
  {
   "cell_type": "code",
   "execution_count": 11,
   "id": "b8206b9c-df62-4d60-824b-0af3a29562a5",
   "metadata": {
    "execution": {
     "iopub.execute_input": "2025-06-16T12:54:30.043437Z",
     "iopub.status.busy": "2025-06-16T12:54:30.043162Z",
     "iopub.status.idle": "2025-06-16T12:54:30.132425Z",
     "shell.execute_reply": "2025-06-16T12:54:30.131926Z",
     "shell.execute_reply.started": "2025-06-16T12:54:30.043415Z"
    }
   },
   "outputs": [
    {
     "name": "stdout",
     "output_type": "stream",
     "text": [
      "\n",
      "Column: NAME_CONTRACT_TYPE\n",
      "NAME_CONTRACT_TYPE\n",
      "Cash loans         278232\n",
      "Revolving loans     29279\n",
      "Name: count, dtype: int64\n",
      "\n",
      "Column: CODE_GENDER\n",
      "CODE_GENDER\n",
      "F      202448\n",
      "M      105059\n",
      "XNA         4\n",
      "Name: count, dtype: int64\n",
      "\n",
      "Column: FLAG_OWN_CAR\n",
      "FLAG_OWN_CAR\n",
      "N    202924\n",
      "Y    104587\n",
      "Name: count, dtype: int64\n",
      "\n",
      "Column: FLAG_OWN_REALTY\n",
      "FLAG_OWN_REALTY\n",
      "Y    213312\n",
      "N     94199\n",
      "Name: count, dtype: int64\n",
      "\n",
      "Column: NAME_INCOME_TYPE\n",
      "NAME_INCOME_TYPE\n",
      "Working                 158774\n",
      "Commercial associate     71617\n",
      "Pensioner                55362\n",
      "State servant            21703\n",
      "Unemployed                  22\n",
      "Student                     18\n",
      "Businessman                 10\n",
      "Maternity leave              5\n",
      "Name: count, dtype: int64\n",
      "\n",
      "Column: NAME_EDUCATION_TYPE\n",
      "NAME_EDUCATION_TYPE\n",
      "Secondary / secondary special    218391\n",
      "Higher education                  74863\n",
      "Incomplete higher                 10277\n",
      "Lower secondary                    3816\n",
      "Academic degree                     164\n",
      "Name: count, dtype: int64\n",
      "\n",
      "Column: NAME_FAMILY_STATUS\n",
      "NAME_FAMILY_STATUS\n",
      "Married                 196432\n",
      "Single / not married     45444\n",
      "Civil marriage           29775\n",
      "Separated                19770\n",
      "Widow                    16088\n",
      "Unknown                      2\n",
      "Name: count, dtype: int64\n",
      "\n",
      "Column: NAME_HOUSING_TYPE\n",
      "NAME_HOUSING_TYPE\n",
      "House / apartment      272868\n",
      "With parents            14840\n",
      "Municipal apartment     11183\n",
      "Rented apartment         4881\n",
      "Office apartment         2617\n",
      "Co-op apartment          1122\n",
      "Name: count, dtype: int64\n",
      "\n",
      "Column: OCCUPATION_TYPE\n",
      "OCCUPATION_TYPE\n",
      "NaN                      96391\n",
      "Laborers                 55186\n",
      "Sales staff              32102\n",
      "Core staff               27570\n",
      "Managers                 21371\n",
      "Drivers                  18603\n",
      "High skill tech staff    11380\n",
      "Accountants               9813\n",
      "Medicine staff            8537\n",
      "Security staff            6721\n",
      "Cooking staff             5946\n",
      "Cleaning staff            4653\n",
      "Private service staff     2652\n",
      "Low-skill Laborers        2093\n",
      "Waiters/barmen staff      1348\n",
      "Secretaries               1305\n",
      "Realty agents              751\n",
      "HR staff                   563\n",
      "IT staff                   526\n",
      "Name: count, dtype: int64\n",
      "\n",
      "Column: ORGANIZATION_TYPE\n",
      "ORGANIZATION_TYPE\n",
      "Business Entity Type 3    67992\n",
      "XNA                       55374\n",
      "Self-employed             38412\n",
      "Other                     16683\n",
      "Medicine                  11193\n",
      "Business Entity Type 2    10553\n",
      "Government                10404\n",
      "School                     8893\n",
      "Trade: type 7              7831\n",
      "Kindergarten               6880\n",
      "Construction               6721\n",
      "Business Entity Type 1     5984\n",
      "Transport: type 4          5398\n",
      "Trade: type 3              3492\n",
      "Industry: type 9           3368\n",
      "Industry: type 3           3278\n",
      "Security                   3247\n",
      "Housing                    2958\n",
      "Industry: type 11          2704\n",
      "Military                   2634\n",
      "Bank                       2507\n",
      "Agriculture                2454\n",
      "Police                     2341\n",
      "Transport: type 2          2204\n",
      "Postal                     2157\n",
      "Security Ministries        1974\n",
      "Trade: type 2              1900\n",
      "Restaurant                 1811\n",
      "Services                   1575\n",
      "University                 1327\n",
      "Industry: type 7           1307\n",
      "Transport: type 3          1187\n",
      "Industry: type 1           1039\n",
      "Hotel                       966\n",
      "Electricity                 950\n",
      "Industry: type 4            877\n",
      "Trade: type 6               631\n",
      "Industry: type 5            599\n",
      "Insurance                   597\n",
      "Telecom                     577\n",
      "Emergency                   560\n",
      "Industry: type 2            458\n",
      "Advertising                 429\n",
      "Realtor                     396\n",
      "Culture                     379\n",
      "Industry: type 12           369\n",
      "Trade: type 1               348\n",
      "Mobile                      317\n",
      "Legal Services              305\n",
      "Cleaning                    260\n",
      "Transport: type 1           201\n",
      "Industry: type 6            112\n",
      "Industry: type 10           109\n",
      "Religion                     85\n",
      "Industry: type 13            67\n",
      "Trade: type 4                64\n",
      "Trade: type 5                49\n",
      "Industry: type 8             24\n",
      "Name: count, dtype: int64\n"
     ]
    }
   ],
   "source": [
    "for col in cats_nlnr_final:\n",
    "    print(f\"\\nColumn: {col}\")\n",
    "    print(df_updated[col].value_counts(dropna=False))"
   ]
  },
  {
   "cell_type": "code",
   "execution_count": 12,
   "id": "125705f9-abd8-4747-be64-a5f74342fa32",
   "metadata": {
    "execution": {
     "iopub.execute_input": "2025-06-16T12:54:30.133272Z",
     "iopub.status.busy": "2025-06-16T12:54:30.133015Z",
     "iopub.status.idle": "2025-06-16T12:54:30.150978Z",
     "shell.execute_reply": "2025-06-16T12:54:30.150492Z",
     "shell.execute_reply.started": "2025-06-16T12:54:30.133252Z"
    }
   },
   "outputs": [
    {
     "name": "stderr",
     "output_type": "stream",
     "text": [
      "/tmp/ipykernel_5515/2760842125.py:1: SettingWithCopyWarning: \n",
      "A value is trying to be set on a copy of a slice from a DataFrame.\n",
      "Try using .loc[row_indexer,col_indexer] = value instead\n",
      "\n",
      "See the caveats in the documentation: https://pandas.pydata.org/pandas-docs/stable/user_guide/indexing.html#returning-a-view-versus-a-copy\n",
      "  df_updated['NAME_CONTRACT_TYPE'] = df_updated['NAME_CONTRACT_TYPE'].map({\n"
     ]
    }
   ],
   "source": [
    "df_updated['NAME_CONTRACT_TYPE'] = df_updated['NAME_CONTRACT_TYPE'].map({\n",
    "    'Cash loans': 0,\n",
    "    'Revolving loans': 1\n",
    "})\n"
   ]
  },
  {
   "cell_type": "code",
   "execution_count": 13,
   "id": "b94f7f94-ebee-4629-817e-81fa78f0a365",
   "metadata": {
    "execution": {
     "iopub.execute_input": "2025-06-16T12:54:30.151770Z",
     "iopub.status.busy": "2025-06-16T12:54:30.151537Z",
     "iopub.status.idle": "2025-06-16T12:54:30.156374Z",
     "shell.execute_reply": "2025-06-16T12:54:30.155886Z",
     "shell.execute_reply.started": "2025-06-16T12:54:30.151752Z"
    }
   },
   "outputs": [
    {
     "data": {
      "text/plain": [
       "0         0\n",
       "1         0\n",
       "2         1\n",
       "3         0\n",
       "4         0\n",
       "         ..\n",
       "307506    0\n",
       "307507    0\n",
       "307508    0\n",
       "307509    0\n",
       "307510    0\n",
       "Name: NAME_CONTRACT_TYPE, Length: 307511, dtype: int64"
      ]
     },
     "execution_count": 13,
     "metadata": {},
     "output_type": "execute_result"
    }
   ],
   "source": [
    "df_updated['NAME_CONTRACT_TYPE']"
   ]
  },
  {
   "cell_type": "code",
   "execution_count": 14,
   "id": "f816ff0a-6335-42ae-8590-417091db423e",
   "metadata": {
    "execution": {
     "iopub.execute_input": "2025-06-16T12:54:30.158756Z",
     "iopub.status.busy": "2025-06-16T12:54:30.158532Z",
     "iopub.status.idle": "2025-06-16T12:54:30.424384Z",
     "shell.execute_reply": "2025-06-16T12:54:30.423869Z",
     "shell.execute_reply.started": "2025-06-16T12:54:30.158740Z"
    }
   },
   "outputs": [],
   "source": [
    "df_updated = df_updated[df_updated['CODE_GENDER'] != 'XNA']\n",
    "df_updated = pd.get_dummies(df_updated, columns=['CODE_GENDER'], drop_first=True)"
   ]
  },
  {
   "cell_type": "code",
   "execution_count": 15,
   "id": "ccd69912-3f32-42d7-a39a-7627d53a9d1b",
   "metadata": {
    "execution": {
     "iopub.execute_input": "2025-06-16T12:54:30.425353Z",
     "iopub.status.busy": "2025-06-16T12:54:30.424985Z",
     "iopub.status.idle": "2025-06-16T12:54:30.453864Z",
     "shell.execute_reply": "2025-06-16T12:54:30.453403Z",
     "shell.execute_reply.started": "2025-06-16T12:54:30.425334Z"
    }
   },
   "outputs": [],
   "source": [
    "df_updated['FLAG_OWN_CAR'] = df_updated['FLAG_OWN_CAR'].map({'Y': 1, 'N': 0})\n",
    "df_updated['FLAG_OWN_REALTY'] = df_updated['FLAG_OWN_REALTY'].map({'Y': 1, 'N': 0})"
   ]
  },
  {
   "cell_type": "code",
   "execution_count": 16,
   "id": "95e7131b-6d2e-47f7-8741-04895660d4a6",
   "metadata": {
    "execution": {
     "iopub.execute_input": "2025-06-16T12:54:30.454845Z",
     "iopub.status.busy": "2025-06-16T12:54:30.454435Z",
     "iopub.status.idle": "2025-06-16T12:54:30.664617Z",
     "shell.execute_reply": "2025-06-16T12:54:30.664103Z",
     "shell.execute_reply.started": "2025-06-16T12:54:30.454821Z"
    }
   },
   "outputs": [],
   "source": [
    "rare_income_types = ['Unemployed', 'Student', 'Businessman', 'Maternity leave']\n",
    "df_updated['NAME_INCOME_TYPE'] = df_updated['NAME_INCOME_TYPE'].replace(rare_income_types, 'Other')\n",
    "most_frequent = df_updated['NAME_INCOME_TYPE'].value_counts().idxmax()\n",
    "dummies = pd.get_dummies(df_updated['NAME_INCOME_TYPE'], prefix='NAME_INCOME_TYPE')\n",
    "dummies.drop(f'NAME_INCOME_TYPE_{most_frequent}', axis=1, inplace=True)\n",
    "df_updated = pd.concat([df_updated.drop('NAME_INCOME_TYPE', axis=1), dummies], axis=1)"
   ]
  },
  {
   "cell_type": "code",
   "execution_count": 17,
   "id": "7beb93b9-e78b-4120-9ce5-ba7aace44dcf",
   "metadata": {
    "execution": {
     "iopub.execute_input": "2025-06-16T12:54:30.665830Z",
     "iopub.status.busy": "2025-06-16T12:54:30.665302Z",
     "iopub.status.idle": "2025-06-16T12:54:30.683614Z",
     "shell.execute_reply": "2025-06-16T12:54:30.683166Z",
     "shell.execute_reply.started": "2025-06-16T12:54:30.665798Z"
    }
   },
   "outputs": [],
   "source": [
    "education_mapping = {\n",
    "    'Lower secondary': 0,\n",
    "    'Secondary / secondary special': 1,\n",
    "    'Incomplete higher': 2,\n",
    "    'Higher education': 3,\n",
    "    'Academic degree': 4\n",
    "}\n",
    "\n",
    "df_updated['NAME_EDUCATION_TYPE'] = df_updated['NAME_EDUCATION_TYPE'].map(education_mapping)\n"
   ]
  },
  {
   "cell_type": "code",
   "execution_count": 18,
   "id": "d985067e-8d40-4be3-b558-12284c8bf0d5",
   "metadata": {
    "execution": {
     "iopub.execute_input": "2025-06-16T12:54:30.684362Z",
     "iopub.status.busy": "2025-06-16T12:54:30.684190Z",
     "iopub.status.idle": "2025-06-16T12:54:30.767363Z",
     "shell.execute_reply": "2025-06-16T12:54:30.766769Z",
     "shell.execute_reply.started": "2025-06-16T12:54:30.684347Z"
    }
   },
   "outputs": [],
   "source": [
    "df_updated = df_updated[df_updated['NAME_FAMILY_STATUS'] != 'Unknown']\n",
    "family_status_mapping = {\n",
    "    'Widow': 0,\n",
    "    'Single / not married': 1,\n",
    "    'Separated': 1,\n",
    "    'Civil marriage': 2,\n",
    "    'Married': 3\n",
    "}\n",
    "df_updated['NAME_FAMILY_STATUS'] = df_updated['NAME_FAMILY_STATUS'].map(family_status_mapping)\n"
   ]
  },
  {
   "cell_type": "code",
   "execution_count": 19,
   "id": "7e98e508-e2ed-4418-8b12-aecc1565050a",
   "metadata": {
    "execution": {
     "iopub.execute_input": "2025-06-16T12:54:30.768286Z",
     "iopub.status.busy": "2025-06-16T12:54:30.768028Z",
     "iopub.status.idle": "2025-06-16T12:54:30.913388Z",
     "shell.execute_reply": "2025-06-16T12:54:30.912809Z",
     "shell.execute_reply.started": "2025-06-16T12:54:30.768268Z"
    }
   },
   "outputs": [],
   "source": [
    "dummies = pd.get_dummies(df_updated['NAME_HOUSING_TYPE'], prefix='NAME_HOUSING_TYPE')\n",
    "dummies.drop('NAME_HOUSING_TYPE_House / apartment', axis=1, inplace=True)\n",
    "df_updated= pd.concat([df_updated.drop('NAME_HOUSING_TYPE', axis=1), dummies], axis=1)"
   ]
  },
  {
   "cell_type": "code",
   "execution_count": 20,
   "id": "4b3e6df7-72ed-40f4-9c9f-ec9a8f5d00a1",
   "metadata": {
    "execution": {
     "iopub.execute_input": "2025-06-16T12:54:30.914382Z",
     "iopub.status.busy": "2025-06-16T12:54:30.914100Z",
     "iopub.status.idle": "2025-06-16T12:54:31.279162Z",
     "shell.execute_reply": "2025-06-16T12:54:31.278586Z",
     "shell.execute_reply.started": "2025-06-16T12:54:30.914363Z"
    }
   },
   "outputs": [],
   "source": [
    "df_updated['ORGANIZATION_TYPE'] = df_updated['ORGANIZATION_TYPE'].replace('XNA', 'Unknown')\n",
    "org_counts = df_updated['ORGANIZATION_TYPE'].value_counts()\n",
    "threshold = 3000\n",
    "common_orgs = org_counts[org_counts > threshold].index\n",
    "df_updated['ORGANIZATION_TYPE_GROUPED'] = df_updated['ORGANIZATION_TYPE'].apply(lambda x: x if x in common_orgs else 'Other')\n",
    "dummies = pd.get_dummies(df_updated['ORGANIZATION_TYPE_GROUPED'], prefix='ORG_TYPE')\n",
    "most_freq_column = df_updated['ORGANIZATION_TYPE_GROUPED'].value_counts().idxmax()\n",
    "dummies.drop(f'ORG_TYPE_{most_freq_column}', axis=1, inplace=True)\n",
    "df_updated.drop(columns=['ORGANIZATION_TYPE', 'ORGANIZATION_TYPE_GROUPED'], inplace=True)\n",
    "df_updated = pd.concat([df_updated, dummies], axis=1)"
   ]
  },
  {
   "cell_type": "code",
   "execution_count": 21,
   "id": "ef4ef819-e437-4169-9576-d6326df16a50",
   "metadata": {
    "execution": {
     "iopub.execute_input": "2025-06-16T12:54:31.280085Z",
     "iopub.status.busy": "2025-06-16T12:54:31.279825Z",
     "iopub.status.idle": "2025-06-16T12:54:31.590974Z",
     "shell.execute_reply": "2025-06-16T12:54:31.590367Z",
     "shell.execute_reply.started": "2025-06-16T12:54:31.280067Z"
    }
   },
   "outputs": [],
   "source": [
    "df_updated['OCCUPATION_TYPE'] = df_updated['OCCUPATION_TYPE'].fillna('Unknown')\n",
    "occ_counts = df_updated['OCCUPATION_TYPE'].value_counts()\n",
    "threshold = 3000\n",
    "common_occs = occ_counts[occ_counts > threshold].index\n",
    "df_updated['OCCUPATION_TYPE_GROUPED'] = df_updated['OCCUPATION_TYPE'].apply(lambda x: x if x in common_occs else 'Other')\n",
    "dummies_occ = pd.get_dummies(df_updated['OCCUPATION_TYPE_GROUPED'], prefix='OCC_TYPE')\n",
    "most_freq_occ = df_updated['OCCUPATION_TYPE_GROUPED'].value_counts().idxmax()\n",
    "dummies_occ.drop(f'OCC_TYPE_{most_freq_occ}', axis=1, inplace=True)\n",
    "df_updated.drop(columns=['OCCUPATION_TYPE', 'OCCUPATION_TYPE_GROUPED'], inplace=True)\n",
    "df_updated = pd.concat([df_updated, dummies_occ], axis=1)"
   ]
  },
  {
   "cell_type": "code",
   "execution_count": 22,
   "id": "3661bd13-c72e-4ff5-bb8e-1578cb7290de",
   "metadata": {
    "execution": {
     "iopub.execute_input": "2025-06-16T12:54:31.591910Z",
     "iopub.status.busy": "2025-06-16T12:54:31.591655Z",
     "iopub.status.idle": "2025-06-16T12:54:31.596096Z",
     "shell.execute_reply": "2025-06-16T12:54:31.595582Z",
     "shell.execute_reply.started": "2025-06-16T12:54:31.591892Z"
    }
   },
   "outputs": [
    {
     "data": {
      "text/plain": [
       "['TARGET',\n",
       " 'FLAG_EMP_PHONE',\n",
       " 'FLAG_WORK_PHONE',\n",
       " 'FLAG_CONT_MOBILE',\n",
       " 'FLAG_PHONE',\n",
       " 'FLAG_EMAIL',\n",
       " 'REGION_RATING_CLIENT',\n",
       " 'REGION_RATING_CLIENT_W_CITY',\n",
       " 'REG_REGION_NOT_LIVE_REGION',\n",
       " 'REG_REGION_NOT_WORK_REGION',\n",
       " 'LIVE_REGION_NOT_WORK_REGION',\n",
       " 'REG_CITY_NOT_LIVE_CITY',\n",
       " 'REG_CITY_NOT_WORK_CITY',\n",
       " 'LIVE_CITY_NOT_WORK_CITY',\n",
       " 'CNT_CHILDREN',\n",
       " 'CNT_FAM_MEMBERS',\n",
       " 'AMT_REQ_CREDIT_BUREAU_YEAR',\n",
       " 'FLAG_DOCUMENT_3',\n",
       " 'NAME_CONTRACT_TYPE',\n",
       " 'FLAG_OWN_CAR',\n",
       " 'FLAG_OWN_REALTY',\n",
       " 'NAME_EDUCATION_TYPE',\n",
       " 'NAME_FAMILY_STATUS',\n",
       " 'AMT_INCOME_TOTAL',\n",
       " 'AMT_CREDIT',\n",
       " 'AMT_ANNUITY',\n",
       " 'AMT_GOODS_PRICE',\n",
       " 'REGION_POPULATION_RELATIVE',\n",
       " 'DAYS_BIRTH',\n",
       " 'DAYS_EMPLOYED',\n",
       " 'DAYS_REGISTRATION',\n",
       " 'DAYS_ID_PUBLISH',\n",
       " 'OWN_CAR_AGE',\n",
       " 'EXT_SOURCE_1',\n",
       " 'EXT_SOURCE_2',\n",
       " 'EXT_SOURCE_3',\n",
       " 'DAYS_LAST_PHONE_CHANGE',\n",
       " 'HAS_MANY_CHILDREN',\n",
       " 'HAS_LARGE_FAMILY',\n",
       " 'HAS_HIGH_CREDIT_REQ',\n",
       " 'CODE_GENDER_M',\n",
       " 'NAME_INCOME_TYPE_Commercial associate',\n",
       " 'NAME_INCOME_TYPE_Other',\n",
       " 'NAME_INCOME_TYPE_Pensioner',\n",
       " 'NAME_INCOME_TYPE_State servant',\n",
       " 'NAME_HOUSING_TYPE_Co-op apartment',\n",
       " 'NAME_HOUSING_TYPE_Municipal apartment',\n",
       " 'NAME_HOUSING_TYPE_Office apartment',\n",
       " 'NAME_HOUSING_TYPE_Rented apartment',\n",
       " 'NAME_HOUSING_TYPE_With parents',\n",
       " 'ORG_TYPE_Business Entity Type 1',\n",
       " 'ORG_TYPE_Business Entity Type 2',\n",
       " 'ORG_TYPE_Construction',\n",
       " 'ORG_TYPE_Government',\n",
       " 'ORG_TYPE_Industry: type 3',\n",
       " 'ORG_TYPE_Industry: type 9',\n",
       " 'ORG_TYPE_Kindergarten',\n",
       " 'ORG_TYPE_Medicine',\n",
       " 'ORG_TYPE_Other',\n",
       " 'ORG_TYPE_School',\n",
       " 'ORG_TYPE_Security',\n",
       " 'ORG_TYPE_Self-employed',\n",
       " 'ORG_TYPE_Trade: type 3',\n",
       " 'ORG_TYPE_Trade: type 7',\n",
       " 'ORG_TYPE_Transport: type 4',\n",
       " 'ORG_TYPE_Unknown',\n",
       " 'OCC_TYPE_Accountants',\n",
       " 'OCC_TYPE_Cleaning staff',\n",
       " 'OCC_TYPE_Cooking staff',\n",
       " 'OCC_TYPE_Core staff',\n",
       " 'OCC_TYPE_Drivers',\n",
       " 'OCC_TYPE_High skill tech staff',\n",
       " 'OCC_TYPE_Laborers',\n",
       " 'OCC_TYPE_Managers',\n",
       " 'OCC_TYPE_Medicine staff',\n",
       " 'OCC_TYPE_Other',\n",
       " 'OCC_TYPE_Sales staff',\n",
       " 'OCC_TYPE_Security staff']"
      ]
     },
     "execution_count": 22,
     "metadata": {},
     "output_type": "execute_result"
    }
   ],
   "source": [
    "df_updated.columns.tolist()"
   ]
  },
  {
   "cell_type": "code",
   "execution_count": 23,
   "id": "9100fb90-baa0-4ed8-b20f-a0908b8eb24c",
   "metadata": {
    "execution": {
     "iopub.execute_input": "2025-06-16T12:54:31.596977Z",
     "iopub.status.busy": "2025-06-16T12:54:31.596663Z",
     "iopub.status.idle": "2025-06-16T12:54:31.613193Z",
     "shell.execute_reply": "2025-06-16T12:54:31.612652Z",
     "shell.execute_reply.started": "2025-06-16T12:54:31.596960Z"
    }
   },
   "outputs": [
    {
     "data": {
      "text/plain": [
       "AMT_INCOME_TOTAL                   0\n",
       "AMT_CREDIT                         0\n",
       "AMT_ANNUITY                       12\n",
       "AMT_GOODS_PRICE                  276\n",
       "REGION_POPULATION_RELATIVE         0\n",
       "DAYS_BIRTH                         0\n",
       "DAYS_EMPLOYED                      0\n",
       "DAYS_REGISTRATION                  0\n",
       "DAYS_ID_PUBLISH                    0\n",
       "OWN_CAR_AGE                   202925\n",
       "EXT_SOURCE_1                  173375\n",
       "EXT_SOURCE_2                     660\n",
       "EXT_SOURCE_3                   60964\n",
       "DAYS_LAST_PHONE_CHANGE             1\n",
       "dtype: int64"
      ]
     },
     "execution_count": 23,
     "metadata": {},
     "output_type": "execute_result"
    }
   ],
   "source": [
    "df_updated[final_numerical].isnull().sum()"
   ]
  },
  {
   "cell_type": "code",
   "execution_count": 24,
   "id": "46b45992-1cd6-4c77-bfed-75235d89ae71",
   "metadata": {
    "execution": {
     "iopub.execute_input": "2025-06-16T12:54:31.614131Z",
     "iopub.status.busy": "2025-06-16T12:54:31.613805Z",
     "iopub.status.idle": "2025-06-16T12:54:31.640766Z",
     "shell.execute_reply": "2025-06-16T12:54:31.640283Z",
     "shell.execute_reply.started": "2025-06-16T12:54:31.614114Z"
    }
   },
   "outputs": [],
   "source": [
    "df_updated.drop(columns=['OWN_CAR_AGE'], inplace=True)"
   ]
  },
  {
   "cell_type": "code",
   "execution_count": 25,
   "id": "c6c8119a-b568-40a8-9e89-9ed6f5d91b5d",
   "metadata": {
    "execution": {
     "iopub.execute_input": "2025-06-16T12:54:31.641707Z",
     "iopub.status.busy": "2025-06-16T12:54:31.641338Z",
     "iopub.status.idle": "2025-06-16T12:54:31.671896Z",
     "shell.execute_reply": "2025-06-16T12:54:31.671417Z",
     "shell.execute_reply.started": "2025-06-16T12:54:31.641689Z"
    }
   },
   "outputs": [
    {
     "name": "stderr",
     "output_type": "stream",
     "text": [
      "/tmp/ipykernel_5515/757547116.py:2: FutureWarning: A value is trying to be set on a copy of a DataFrame or Series through chained assignment using an inplace method.\n",
      "The behavior will change in pandas 3.0. This inplace method will never work because the intermediate object on which we are setting values always behaves as a copy.\n",
      "\n",
      "For example, when doing 'df[col].method(value, inplace=True)', try using 'df.method({col: value}, inplace=True)' or df[col] = df[col].method(value) instead, to perform the operation inplace on the original object.\n",
      "\n",
      "\n",
      "  df_updated['EXT_SOURCE_1'].fillna(df_updated['EXT_SOURCE_1'].median(), inplace=True)\n",
      "/tmp/ipykernel_5515/757547116.py:3: FutureWarning: A value is trying to be set on a copy of a DataFrame or Series through chained assignment using an inplace method.\n",
      "The behavior will change in pandas 3.0. This inplace method will never work because the intermediate object on which we are setting values always behaves as a copy.\n",
      "\n",
      "For example, when doing 'df[col].method(value, inplace=True)', try using 'df.method({col: value}, inplace=True)' or df[col] = df[col].method(value) instead, to perform the operation inplace on the original object.\n",
      "\n",
      "\n",
      "  df_updated['EXT_SOURCE_2'].fillna(df_updated['EXT_SOURCE_2'].median(), inplace=True)\n",
      "/tmp/ipykernel_5515/757547116.py:5: FutureWarning: A value is trying to be set on a copy of a DataFrame or Series through chained assignment using an inplace method.\n",
      "The behavior will change in pandas 3.0. This inplace method will never work because the intermediate object on which we are setting values always behaves as a copy.\n",
      "\n",
      "For example, when doing 'df[col].method(value, inplace=True)', try using 'df.method({col: value}, inplace=True)' or df[col] = df[col].method(value) instead, to perform the operation inplace on the original object.\n",
      "\n",
      "\n",
      "  df_updated['EXT_SOURCE_3'].fillna(df_updated['EXT_SOURCE_3'].median(), inplace=True)\n"
     ]
    }
   ],
   "source": [
    "df_updated['EXT_SOURCE_1_MISSING'] = df_updated['EXT_SOURCE_1'].isna().astype(int)\n",
    "df_updated['EXT_SOURCE_1'].fillna(df_updated['EXT_SOURCE_1'].median(), inplace=True)\n",
    "df_updated['EXT_SOURCE_2'].fillna(df_updated['EXT_SOURCE_2'].median(), inplace=True)\n",
    "df_updated['EXT_SOURCE_3_MISSING'] = df_updated['EXT_SOURCE_3'].isna().astype(int)\n",
    "df_updated['EXT_SOURCE_3'].fillna(df_updated['EXT_SOURCE_3'].median(), inplace=True)"
   ]
  },
  {
   "cell_type": "code",
   "execution_count": 26,
   "id": "ec87fa68-6bd6-47b8-b2f6-f24b0ce40593",
   "metadata": {
    "execution": {
     "iopub.execute_input": "2025-06-16T12:54:31.672827Z",
     "iopub.status.busy": "2025-06-16T12:54:31.672479Z",
     "iopub.status.idle": "2025-06-16T12:54:31.690003Z",
     "shell.execute_reply": "2025-06-16T12:54:31.689538Z",
     "shell.execute_reply.started": "2025-06-16T12:54:31.672809Z"
    }
   },
   "outputs": [
    {
     "name": "stderr",
     "output_type": "stream",
     "text": [
      "/tmp/ipykernel_5515/1788496039.py:1: FutureWarning: A value is trying to be set on a copy of a DataFrame or Series through chained assignment using an inplace method.\n",
      "The behavior will change in pandas 3.0. This inplace method will never work because the intermediate object on which we are setting values always behaves as a copy.\n",
      "\n",
      "For example, when doing 'df[col].method(value, inplace=True)', try using 'df.method({col: value}, inplace=True)' or df[col] = df[col].method(value) instead, to perform the operation inplace on the original object.\n",
      "\n",
      "\n",
      "  df_updated['AMT_ANNUITY'].fillna(df_updated['AMT_ANNUITY'].median(), inplace=True)\n",
      "/tmp/ipykernel_5515/1788496039.py:2: FutureWarning: A value is trying to be set on a copy of a DataFrame or Series through chained assignment using an inplace method.\n",
      "The behavior will change in pandas 3.0. This inplace method will never work because the intermediate object on which we are setting values always behaves as a copy.\n",
      "\n",
      "For example, when doing 'df[col].method(value, inplace=True)', try using 'df.method({col: value}, inplace=True)' or df[col] = df[col].method(value) instead, to perform the operation inplace on the original object.\n",
      "\n",
      "\n",
      "  df_updated['AMT_GOODS_PRICE'].fillna(df_updated['AMT_GOODS_PRICE'].median(), inplace=True)\n"
     ]
    }
   ],
   "source": [
    "df_updated['AMT_ANNUITY'].fillna(df_updated['AMT_ANNUITY'].median(), inplace=True)\n",
    "df_updated['AMT_GOODS_PRICE'].fillna(df_updated['AMT_GOODS_PRICE'].median(), inplace=True)"
   ]
  },
  {
   "cell_type": "code",
   "execution_count": 27,
   "id": "cc4e5806-9482-44e0-bf48-4e727c6f9685",
   "metadata": {
    "execution": {
     "iopub.execute_input": "2025-06-16T12:54:31.690750Z",
     "iopub.status.busy": "2025-06-16T12:54:31.690558Z",
     "iopub.status.idle": "2025-06-16T12:54:31.738536Z",
     "shell.execute_reply": "2025-06-16T12:54:31.738025Z",
     "shell.execute_reply.started": "2025-06-16T12:54:31.690733Z"
    }
   },
   "outputs": [],
   "source": [
    "df_updated= df_updated[df_updated['DAYS_LAST_PHONE_CHANGE'].notna()]\n"
   ]
  },
  {
   "cell_type": "code",
   "execution_count": 28,
   "id": "63f46e15-77dd-43f9-aef5-e1d7dd5d0e9f",
   "metadata": {
    "execution": {
     "iopub.execute_input": "2025-06-16T12:54:31.739428Z",
     "iopub.status.busy": "2025-06-16T12:54:31.739188Z",
     "iopub.status.idle": "2025-06-16T12:54:31.754218Z",
     "shell.execute_reply": "2025-06-16T12:54:31.753776Z",
     "shell.execute_reply.started": "2025-06-16T12:54:31.739411Z"
    }
   },
   "outputs": [
    {
     "data": {
      "text/plain": [
       "AMT_INCOME_TOTAL              0\n",
       "AMT_CREDIT                    0\n",
       "AMT_ANNUITY                   0\n",
       "AMT_GOODS_PRICE               0\n",
       "REGION_POPULATION_RELATIVE    0\n",
       "DAYS_BIRTH                    0\n",
       "DAYS_EMPLOYED                 0\n",
       "DAYS_REGISTRATION             0\n",
       "DAYS_ID_PUBLISH               0\n",
       "EXT_SOURCE_1                  0\n",
       "EXT_SOURCE_2                  0\n",
       "EXT_SOURCE_3                  0\n",
       "DAYS_LAST_PHONE_CHANGE        0\n",
       "dtype: int64"
      ]
     },
     "execution_count": 28,
     "metadata": {},
     "output_type": "execute_result"
    }
   ],
   "source": [
    "selected_numerical_columns = [\n",
    "    'AMT_INCOME_TOTAL', 'AMT_CREDIT', 'AMT_ANNUITY', 'AMT_GOODS_PRICE',\n",
    "    'REGION_POPULATION_RELATIVE', 'DAYS_BIRTH', 'DAYS_EMPLOYED',\n",
    "    'DAYS_REGISTRATION', 'DAYS_ID_PUBLISH',\n",
    "    'EXT_SOURCE_1', 'EXT_SOURCE_2', 'EXT_SOURCE_3', 'DAYS_LAST_PHONE_CHANGE'\n",
    "]\n",
    "df_updated[selected_numerical_columns].isnull().sum()"
   ]
  },
  {
   "cell_type": "code",
   "execution_count": 29,
   "id": "e7bbe148-c0b8-4f0c-87dc-29a70541ee6c",
   "metadata": {
    "execution": {
     "iopub.execute_input": "2025-06-16T12:54:31.755176Z",
     "iopub.status.busy": "2025-06-16T12:54:31.754781Z",
     "iopub.status.idle": "2025-06-16T12:54:31.777145Z",
     "shell.execute_reply": "2025-06-16T12:54:31.776674Z",
     "shell.execute_reply.started": "2025-06-16T12:54:31.755159Z"
    }
   },
   "outputs": [
    {
     "name": "stderr",
     "output_type": "stream",
     "text": [
      "/tmp/ipykernel_5515/1464963025.py:3: FutureWarning: A value is trying to be set on a copy of a DataFrame or Series through chained assignment using an inplace method.\n",
      "The behavior will change in pandas 3.0. This inplace method will never work because the intermediate object on which we are setting values always behaves as a copy.\n",
      "\n",
      "For example, when doing 'df[col].method(value, inplace=True)', try using 'df.method({col: value}, inplace=True)' or df[col] = df[col].method(value) instead, to perform the operation inplace on the original object.\n",
      "\n",
      "\n",
      "  df_updated['DAYS_EMPLOYED'].replace(365243, np.nan, inplace=True)\n"
     ]
    }
   ],
   "source": [
    "import numpy as np\n",
    "\n",
    "df_updated['DAYS_EMPLOYED'].replace(365243, np.nan, inplace=True)\n",
    "df_updated['DAYS_EMPLOYED_MISSING'] = df_updated['DAYS_EMPLOYED'].isna().astype(int)\n",
    "df_updated['DAYS_EMPLOYED'].fillna(df_updated['DAYS_EMPLOYED'].median(), inplace=True)\n",
    "df_updated['EMPLOYMENT_YEARS'] = (-df_updated['DAYS_EMPLOYED']) / 365\n",
    "df_updated['AGE_YEARS'] = (-df_updated['DAYS_BIRTH']) / 365\n",
    "df_updated['REGISTRATION_YEARS'] = (-df_updated['DAYS_REGISTRATION']) / 365\n",
    "df_updated['ID_PUBLISH_YEARS'] = (-df_updated['DAYS_ID_PUBLISH']) / 365\n",
    "df_updated['LAST_PHONE_CHANGE_YEARS'] = (-df_updated['DAYS_LAST_PHONE_CHANGE']) / 365\n"
   ]
  },
  {
   "cell_type": "code",
   "execution_count": 30,
   "id": "f822706e-6f1e-4996-a5eb-20d8e1cef117",
   "metadata": {
    "execution": {
     "iopub.execute_input": "2025-06-16T12:54:31.777946Z",
     "iopub.status.busy": "2025-06-16T12:54:31.777698Z",
     "iopub.status.idle": "2025-06-16T12:54:31.814265Z",
     "shell.execute_reply": "2025-06-16T12:54:31.813734Z",
     "shell.execute_reply.started": "2025-06-16T12:54:31.777928Z"
    }
   },
   "outputs": [],
   "source": [
    "df_updated.drop(columns=[\n",
    "    'DAYS_BIRTH', \n",
    "    'DAYS_EMPLOYED', \n",
    "    'DAYS_REGISTRATION', \n",
    "    'DAYS_ID_PUBLISH', \n",
    "    'DAYS_LAST_PHONE_CHANGE'\n",
    "], inplace=True)\n"
   ]
  },
  {
   "cell_type": "code",
   "execution_count": 31,
   "id": "c5895ab4-aff6-4caa-b43b-a51cb04897a0",
   "metadata": {
    "execution": {
     "iopub.execute_input": "2025-06-16T12:54:31.815382Z",
     "iopub.status.busy": "2025-06-16T12:54:31.815011Z",
     "iopub.status.idle": "2025-06-16T12:54:31.837227Z",
     "shell.execute_reply": "2025-06-16T12:54:31.836798Z",
     "shell.execute_reply.started": "2025-06-16T12:54:31.815353Z"
    }
   },
   "outputs": [
    {
     "data": {
      "text/html": [
       "<div>\n",
       "<style scoped>\n",
       "    .dataframe tbody tr th:only-of-type {\n",
       "        vertical-align: middle;\n",
       "    }\n",
       "\n",
       "    .dataframe tbody tr th {\n",
       "        vertical-align: top;\n",
       "    }\n",
       "\n",
       "    .dataframe thead th {\n",
       "        text-align: right;\n",
       "    }\n",
       "</style>\n",
       "<table border=\"1\" class=\"dataframe\">\n",
       "  <thead>\n",
       "    <tr style=\"text-align: right;\">\n",
       "      <th></th>\n",
       "      <th>AMT_INCOME_TOTAL</th>\n",
       "      <th>AMT_CREDIT</th>\n",
       "      <th>AMT_ANNUITY</th>\n",
       "      <th>AMT_GOODS_PRICE</th>\n",
       "      <th>REGION_POPULATION_RELATIVE</th>\n",
       "      <th>EXT_SOURCE_1</th>\n",
       "      <th>EXT_SOURCE_2</th>\n",
       "      <th>EXT_SOURCE_3</th>\n",
       "      <th>EMPLOYMENT_YEARS</th>\n",
       "      <th>AGE_YEARS</th>\n",
       "      <th>REGISTRATION_YEARS</th>\n",
       "      <th>ID_PUBLISH_YEARS</th>\n",
       "      <th>LAST_PHONE_CHANGE_YEARS</th>\n",
       "      <th>DAYS_EMPLOYED_MISSING</th>\n",
       "    </tr>\n",
       "  </thead>\n",
       "  <tbody>\n",
       "    <tr>\n",
       "      <th>0</th>\n",
       "      <td>202500.0</td>\n",
       "      <td>406597.5</td>\n",
       "      <td>24700.5</td>\n",
       "      <td>351000.0</td>\n",
       "      <td>0.018801</td>\n",
       "      <td>0.083037</td>\n",
       "      <td>0.262949</td>\n",
       "      <td>0.139376</td>\n",
       "      <td>1.745205</td>\n",
       "      <td>25.920548</td>\n",
       "      <td>9.994521</td>\n",
       "      <td>5.808219</td>\n",
       "      <td>3.106849</td>\n",
       "      <td>0</td>\n",
       "    </tr>\n",
       "    <tr>\n",
       "      <th>1</th>\n",
       "      <td>270000.0</td>\n",
       "      <td>1293502.5</td>\n",
       "      <td>35698.5</td>\n",
       "      <td>1129500.0</td>\n",
       "      <td>0.003541</td>\n",
       "      <td>0.311267</td>\n",
       "      <td>0.622246</td>\n",
       "      <td>0.535276</td>\n",
       "      <td>3.254795</td>\n",
       "      <td>45.931507</td>\n",
       "      <td>3.249315</td>\n",
       "      <td>0.797260</td>\n",
       "      <td>2.268493</td>\n",
       "      <td>0</td>\n",
       "    </tr>\n",
       "    <tr>\n",
       "      <th>2</th>\n",
       "      <td>67500.0</td>\n",
       "      <td>135000.0</td>\n",
       "      <td>6750.0</td>\n",
       "      <td>135000.0</td>\n",
       "      <td>0.010032</td>\n",
       "      <td>0.505996</td>\n",
       "      <td>0.555912</td>\n",
       "      <td>0.729567</td>\n",
       "      <td>0.616438</td>\n",
       "      <td>52.180822</td>\n",
       "      <td>11.671233</td>\n",
       "      <td>6.934247</td>\n",
       "      <td>2.232877</td>\n",
       "      <td>0</td>\n",
       "    </tr>\n",
       "    <tr>\n",
       "      <th>3</th>\n",
       "      <td>135000.0</td>\n",
       "      <td>312682.5</td>\n",
       "      <td>29686.5</td>\n",
       "      <td>297000.0</td>\n",
       "      <td>0.008019</td>\n",
       "      <td>0.505996</td>\n",
       "      <td>0.650442</td>\n",
       "      <td>0.535276</td>\n",
       "      <td>8.326027</td>\n",
       "      <td>52.068493</td>\n",
       "      <td>26.939726</td>\n",
       "      <td>6.676712</td>\n",
       "      <td>1.690411</td>\n",
       "      <td>0</td>\n",
       "    </tr>\n",
       "    <tr>\n",
       "      <th>4</th>\n",
       "      <td>121500.0</td>\n",
       "      <td>513000.0</td>\n",
       "      <td>21865.5</td>\n",
       "      <td>513000.0</td>\n",
       "      <td>0.028663</td>\n",
       "      <td>0.505996</td>\n",
       "      <td>0.322738</td>\n",
       "      <td>0.535276</td>\n",
       "      <td>8.323288</td>\n",
       "      <td>54.608219</td>\n",
       "      <td>11.810959</td>\n",
       "      <td>9.473973</td>\n",
       "      <td>3.030137</td>\n",
       "      <td>0</td>\n",
       "    </tr>\n",
       "  </tbody>\n",
       "</table>\n",
       "</div>"
      ],
      "text/plain": [
       "   AMT_INCOME_TOTAL  AMT_CREDIT  AMT_ANNUITY  AMT_GOODS_PRICE  \\\n",
       "0          202500.0    406597.5      24700.5         351000.0   \n",
       "1          270000.0   1293502.5      35698.5        1129500.0   \n",
       "2           67500.0    135000.0       6750.0         135000.0   \n",
       "3          135000.0    312682.5      29686.5         297000.0   \n",
       "4          121500.0    513000.0      21865.5         513000.0   \n",
       "\n",
       "   REGION_POPULATION_RELATIVE  EXT_SOURCE_1  EXT_SOURCE_2  EXT_SOURCE_3  \\\n",
       "0                    0.018801      0.083037      0.262949      0.139376   \n",
       "1                    0.003541      0.311267      0.622246      0.535276   \n",
       "2                    0.010032      0.505996      0.555912      0.729567   \n",
       "3                    0.008019      0.505996      0.650442      0.535276   \n",
       "4                    0.028663      0.505996      0.322738      0.535276   \n",
       "\n",
       "   EMPLOYMENT_YEARS  AGE_YEARS  REGISTRATION_YEARS  ID_PUBLISH_YEARS  \\\n",
       "0          1.745205  25.920548            9.994521          5.808219   \n",
       "1          3.254795  45.931507            3.249315          0.797260   \n",
       "2          0.616438  52.180822           11.671233          6.934247   \n",
       "3          8.326027  52.068493           26.939726          6.676712   \n",
       "4          8.323288  54.608219           11.810959          9.473973   \n",
       "\n",
       "   LAST_PHONE_CHANGE_YEARS  DAYS_EMPLOYED_MISSING  \n",
       "0                 3.106849                      0  \n",
       "1                 2.268493                      0  \n",
       "2                 2.232877                      0  \n",
       "3                 1.690411                      0  \n",
       "4                 3.030137                      0  "
      ]
     },
     "execution_count": 31,
     "metadata": {},
     "output_type": "execute_result"
    }
   ],
   "source": [
    "selected_numerical_columns = [\n",
    "    'AMT_INCOME_TOTAL', 'AMT_CREDIT', 'AMT_ANNUITY', 'AMT_GOODS_PRICE',\n",
    "    'REGION_POPULATION_RELATIVE',\n",
    "    'EXT_SOURCE_1', 'EXT_SOURCE_2', 'EXT_SOURCE_3',\n",
    "    'EMPLOYMENT_YEARS','AGE_YEARS','REGISTRATION_YEARS','ID_PUBLISH_YEARS',\n",
    "    'LAST_PHONE_CHANGE_YEARS','DAYS_EMPLOYED_MISSING'\n",
    "]\n",
    "df_numerical = df_updated[selected_numerical_columns]\n",
    "df_numerical.head()"
   ]
  },
  {
   "cell_type": "code",
   "execution_count": 32,
   "id": "43b0d262-ad85-4a7f-af1e-751e8fd6ad49",
   "metadata": {
    "execution": {
     "iopub.execute_input": "2025-06-16T12:54:31.838000Z",
     "iopub.status.busy": "2025-06-16T12:54:31.837764Z",
     "iopub.status.idle": "2025-06-16T12:54:31.998670Z",
     "shell.execute_reply": "2025-06-16T12:54:31.998152Z",
     "shell.execute_reply.started": "2025-06-16T12:54:31.837982Z"
    }
   },
   "outputs": [],
   "source": [
    "selected_numerical_columns1 = [\n",
    "    'AMT_INCOME_TOTAL', 'AMT_CREDIT', 'AMT_ANNUITY', 'AMT_GOODS_PRICE',\n",
    "    'REGION_POPULATION_RELATIVE', 'EXT_SOURCE_2','EXT_SOURCE_3',\n",
    "    'EMPLOYMENT_YEARS','AGE_YEARS','REGISTRATION_YEARS','ID_PUBLISH_YEARS',\n",
    "    'LAST_PHONE_CHANGE_YEARS'\n",
    "]\n",
    "def cap_outliers_iqr(df, columns):\n",
    "    for col in columns:\n",
    "        Q1 = df[col].quantile(0.25)\n",
    "        Q3 = df[col].quantile(0.75)\n",
    "        IQR = Q3 - Q1\n",
    "        lower_bound = Q1 - 1.5 * IQR\n",
    "        upper_bound = Q3 + 1.5 * IQR\n",
    "        df[col] = df[col].clip(lower=lower_bound, upper=upper_bound)\n",
    "    return df\n",
    "\n",
    "df_updated = cap_outliers_iqr(df_updated, selected_numerical_columns1)\n"
   ]
  },
  {
   "cell_type": "code",
   "execution_count": 33,
   "id": "a599d71a-41ac-43de-9072-ff84a463c0cf",
   "metadata": {
    "execution": {
     "iopub.execute_input": "2025-06-16T12:54:31.999492Z",
     "iopub.status.busy": "2025-06-16T12:54:31.999252Z",
     "iopub.status.idle": "2025-06-16T12:54:32.058314Z",
     "shell.execute_reply": "2025-06-16T12:54:32.057755Z",
     "shell.execute_reply.started": "2025-06-16T12:54:31.999475Z"
    }
   },
   "outputs": [
    {
     "name": "stdout",
     "output_type": "stream",
     "text": [
      "AMT_INCOME_TOTAL: Skewness = 0.78\n",
      "AMT_CREDIT: Skewness = 0.88\n",
      "AMT_ANNUITY: Skewness = 0.71\n",
      "AMT_GOODS_PRICE: Skewness = 0.85\n",
      "REGION_POPULATION_RELATIVE: Skewness = 0.86\n",
      "EXT_SOURCE_2: Skewness = -0.80\n",
      "EXT_SOURCE_3: Skewness = -0.50\n",
      "EMPLOYMENT_YEARS: Skewness = 1.00\n",
      "AGE_YEARS: Skewness = 0.12\n",
      "REGISTRATION_YEARS: Skewness = 0.57\n",
      "ID_PUBLISH_YEARS: Skewness = -0.35\n",
      "LAST_PHONE_CHANGE_YEARS: Skewness = 0.71\n"
     ]
    }
   ],
   "source": [
    "from scipy.stats import skew\n",
    "for col in selected_numerical_columns1:\n",
    "    skewness = skew(df_updated[col].dropna())\n",
    "    print(f\"{col}: Skewness = {skewness:.2f}\")"
   ]
  },
  {
   "cell_type": "code",
   "execution_count": 34,
   "id": "7ae8ac15-0e74-4337-b011-14ece409b331",
   "metadata": {
    "execution": {
     "iopub.execute_input": "2025-06-16T12:54:32.059114Z",
     "iopub.status.busy": "2025-06-16T12:54:32.058869Z",
     "iopub.status.idle": "2025-06-16T12:54:32.071018Z",
     "shell.execute_reply": "2025-06-16T12:54:32.070536Z",
     "shell.execute_reply.started": "2025-06-16T12:54:32.059097Z"
    }
   },
   "outputs": [],
   "source": [
    "import numpy as np\n",
    "\n",
    "\n",
    "skewed_features = [\n",
    "    'AMT_INCOME_TOTAL',\n",
    "    'AMT_CREDIT',\n",
    "    'AMT_ANNUITY',\n",
    "    'AMT_GOODS_PRICE',\n",
    "    'REGION_POPULATION_RELATIVE',\n",
    "    'EMPLOYMENT_YEARS',\n",
    "    'REGISTRATION_YEARS',\n",
    "    'LAST_PHONE_CHANGE_YEARS'\n",
    "]\n",
    "for col in skewed_features:\n",
    "    df_updated[col] = np.log1p(df_updated[col])\n"
   ]
  },
  {
   "cell_type": "code",
   "execution_count": 35,
   "id": "9a2d1ad7-9cf1-4c73-8b15-5a5e68832179",
   "metadata": {
    "execution": {
     "iopub.execute_input": "2025-06-16T12:54:32.071872Z",
     "iopub.status.busy": "2025-06-16T12:54:32.071585Z",
     "iopub.status.idle": "2025-06-16T12:54:32.074876Z",
     "shell.execute_reply": "2025-06-16T12:54:32.074444Z",
     "shell.execute_reply.started": "2025-06-16T12:54:32.071855Z"
    }
   },
   "outputs": [],
   "source": [
    "df_updated['EXT_SOURCE_2'] = df_updated['EXT_SOURCE_2'] ** 2"
   ]
  },
  {
   "cell_type": "code",
   "execution_count": 36,
   "id": "4ae57a37-3ee9-48ca-81d8-9a17607173ab",
   "metadata": {
    "execution": {
     "iopub.execute_input": "2025-06-16T12:54:32.075703Z",
     "iopub.status.busy": "2025-06-16T12:54:32.075383Z",
     "iopub.status.idle": "2025-06-16T12:54:32.079560Z",
     "shell.execute_reply": "2025-06-16T12:54:32.079155Z",
     "shell.execute_reply.started": "2025-06-16T12:54:32.075687Z"
    }
   },
   "outputs": [
    {
     "data": {
      "text/plain": [
       "(307504, 80)"
      ]
     },
     "execution_count": 36,
     "metadata": {},
     "output_type": "execute_result"
    }
   ],
   "source": [
    "df_updated.shape"
   ]
  },
  {
   "cell_type": "code",
   "execution_count": 37,
   "id": "95a787a2-221a-4070-be56-3853819a53f6",
   "metadata": {
    "execution": {
     "iopub.execute_input": "2025-06-16T12:54:32.080401Z",
     "iopub.status.busy": "2025-06-16T12:54:32.080064Z",
     "iopub.status.idle": "2025-06-16T12:54:32.171551Z",
     "shell.execute_reply": "2025-06-16T12:54:32.171031Z",
     "shell.execute_reply.started": "2025-06-16T12:54:32.080386Z"
    }
   },
   "outputs": [],
   "source": [
    "from sklearn.preprocessing import MinMaxScaler\n",
    "\n",
    "selected_numerical_columns1 = [\n",
    "    'AMT_INCOME_TOTAL', 'AMT_CREDIT', 'AMT_ANNUITY', 'AMT_GOODS_PRICE',\n",
    "    'EMPLOYMENT_YEARS', 'AGE_YEARS', 'REGISTRATION_YEARS',\n",
    "    'ID_PUBLISH_YEARS', 'LAST_PHONE_CHANGE_YEARS'\n",
    "]\n",
    "scaler = MinMaxScaler()\n",
    "df_updated[selected_numerical_columns1] = scaler.fit_transform(df_updated[selected_numerical_columns1])\n"
   ]
  },
  {
   "cell_type": "code",
   "execution_count": 38,
   "id": "dea70519-0fb9-43ba-bcd7-4c566a9865f7",
   "metadata": {
    "execution": {
     "iopub.execute_input": "2025-06-16T12:54:32.172588Z",
     "iopub.status.busy": "2025-06-16T12:54:32.172176Z",
     "iopub.status.idle": "2025-06-16T12:54:32.196411Z",
     "shell.execute_reply": "2025-06-16T12:54:32.195974Z",
     "shell.execute_reply.started": "2025-06-16T12:54:32.172569Z"
    }
   },
   "outputs": [
    {
     "data": {
      "text/html": [
       "<div>\n",
       "<style scoped>\n",
       "    .dataframe tbody tr th:only-of-type {\n",
       "        vertical-align: middle;\n",
       "    }\n",
       "\n",
       "    .dataframe tbody tr th {\n",
       "        vertical-align: top;\n",
       "    }\n",
       "\n",
       "    .dataframe thead th {\n",
       "        text-align: right;\n",
       "    }\n",
       "</style>\n",
       "<table border=\"1\" class=\"dataframe\">\n",
       "  <thead>\n",
       "    <tr style=\"text-align: right;\">\n",
       "      <th></th>\n",
       "      <th>AMT_INCOME_TOTAL</th>\n",
       "      <th>AMT_CREDIT</th>\n",
       "      <th>AMT_ANNUITY</th>\n",
       "      <th>AMT_GOODS_PRICE</th>\n",
       "      <th>REGION_POPULATION_RELATIVE</th>\n",
       "      <th>EXT_SOURCE_1</th>\n",
       "      <th>EXT_SOURCE_2</th>\n",
       "      <th>EXT_SOURCE_3</th>\n",
       "      <th>EMPLOYMENT_YEARS</th>\n",
       "      <th>AGE_YEARS</th>\n",
       "      <th>REGISTRATION_YEARS</th>\n",
       "      <th>ID_PUBLISH_YEARS</th>\n",
       "      <th>LAST_PHONE_CHANGE_YEARS</th>\n",
       "      <th>DAYS_EMPLOYED_MISSING</th>\n",
       "    </tr>\n",
       "  </thead>\n",
       "  <tbody>\n",
       "    <tr>\n",
       "      <th>0</th>\n",
       "      <td>0.801775</td>\n",
       "      <td>0.614602</td>\n",
       "      <td>0.748634</td>\n",
       "      <td>0.617017</td>\n",
       "      <td>0.018626</td>\n",
       "      <td>0.083037</td>\n",
       "      <td>0.069142</td>\n",
       "      <td>0.139376</td>\n",
       "      <td>0.363657</td>\n",
       "      <td>0.111161</td>\n",
       "      <td>0.633634</td>\n",
       "      <td>0.294567</td>\n",
       "      <td>0.597713</td>\n",
       "      <td>0</td>\n",
       "    </tr>\n",
       "    <tr>\n",
       "      <th>1</th>\n",
       "      <td>0.913409</td>\n",
       "      <td>0.937738</td>\n",
       "      <td>0.849749</td>\n",
       "      <td>0.950958</td>\n",
       "      <td>0.003535</td>\n",
       "      <td>0.311267</td>\n",
       "      <td>0.387190</td>\n",
       "      <td>0.535276</td>\n",
       "      <td>0.521453</td>\n",
       "      <td>0.522886</td>\n",
       "      <td>0.382379</td>\n",
       "      <td>0.040434</td>\n",
       "      <td>0.501105</td>\n",
       "      <td>0</td>\n",
       "    </tr>\n",
       "    <tr>\n",
       "      <th>2</th>\n",
       "      <td>0.375462</td>\n",
       "      <td>0.306750</td>\n",
       "      <td>0.392473</td>\n",
       "      <td>0.344003</td>\n",
       "      <td>0.009982</td>\n",
       "      <td>0.505996</td>\n",
       "      <td>0.309038</td>\n",
       "      <td>0.729567</td>\n",
       "      <td>0.172933</td>\n",
       "      <td>0.651466</td>\n",
       "      <td>0.671148</td>\n",
       "      <td>0.351674</td>\n",
       "      <td>0.496469</td>\n",
       "      <td>0</td>\n",
       "    </tr>\n",
       "    <tr>\n",
       "      <th>3</th>\n",
       "      <td>0.644435</td>\n",
       "      <td>0.541269</td>\n",
       "      <td>0.799116</td>\n",
       "      <td>0.569285</td>\n",
       "      <td>0.007987</td>\n",
       "      <td>0.505996</td>\n",
       "      <td>0.423074</td>\n",
       "      <td>0.535276</td>\n",
       "      <td>0.804052</td>\n",
       "      <td>0.649154</td>\n",
       "      <td>0.880135</td>\n",
       "      <td>0.338613</td>\n",
       "      <td>0.418752</td>\n",
       "      <td>0</td>\n",
       "    </tr>\n",
       "    <tr>\n",
       "      <th>4</th>\n",
       "      <td>0.603550</td>\n",
       "      <td>0.679507</td>\n",
       "      <td>0.715162</td>\n",
       "      <td>0.725447</td>\n",
       "      <td>0.028260</td>\n",
       "      <td>0.505996</td>\n",
       "      <td>0.104160</td>\n",
       "      <td>0.535276</td>\n",
       "      <td>0.803946</td>\n",
       "      <td>0.701409</td>\n",
       "      <td>0.674047</td>\n",
       "      <td>0.480478</td>\n",
       "      <td>0.589735</td>\n",
       "      <td>0</td>\n",
       "    </tr>\n",
       "  </tbody>\n",
       "</table>\n",
       "</div>"
      ],
      "text/plain": [
       "   AMT_INCOME_TOTAL  AMT_CREDIT  AMT_ANNUITY  AMT_GOODS_PRICE  \\\n",
       "0          0.801775    0.614602     0.748634         0.617017   \n",
       "1          0.913409    0.937738     0.849749         0.950958   \n",
       "2          0.375462    0.306750     0.392473         0.344003   \n",
       "3          0.644435    0.541269     0.799116         0.569285   \n",
       "4          0.603550    0.679507     0.715162         0.725447   \n",
       "\n",
       "   REGION_POPULATION_RELATIVE  EXT_SOURCE_1  EXT_SOURCE_2  EXT_SOURCE_3  \\\n",
       "0                    0.018626      0.083037      0.069142      0.139376   \n",
       "1                    0.003535      0.311267      0.387190      0.535276   \n",
       "2                    0.009982      0.505996      0.309038      0.729567   \n",
       "3                    0.007987      0.505996      0.423074      0.535276   \n",
       "4                    0.028260      0.505996      0.104160      0.535276   \n",
       "\n",
       "   EMPLOYMENT_YEARS  AGE_YEARS  REGISTRATION_YEARS  ID_PUBLISH_YEARS  \\\n",
       "0          0.363657   0.111161            0.633634          0.294567   \n",
       "1          0.521453   0.522886            0.382379          0.040434   \n",
       "2          0.172933   0.651466            0.671148          0.351674   \n",
       "3          0.804052   0.649154            0.880135          0.338613   \n",
       "4          0.803946   0.701409            0.674047          0.480478   \n",
       "\n",
       "   LAST_PHONE_CHANGE_YEARS  DAYS_EMPLOYED_MISSING  \n",
       "0                 0.597713                      0  \n",
       "1                 0.501105                      0  \n",
       "2                 0.496469                      0  \n",
       "3                 0.418752                      0  \n",
       "4                 0.589735                      0  "
      ]
     },
     "execution_count": 38,
     "metadata": {},
     "output_type": "execute_result"
    }
   ],
   "source": [
    "df_updated[selected_numerical_columns].head()"
   ]
  },
  {
   "cell_type": "code",
   "execution_count": 39,
   "id": "b615461d-4239-4d3e-9a7d-2677fa3823f7",
   "metadata": {
    "execution": {
     "iopub.execute_input": "2025-06-16T12:54:32.197176Z",
     "iopub.status.busy": "2025-06-16T12:54:32.196942Z",
     "iopub.status.idle": "2025-06-16T12:54:32.200412Z",
     "shell.execute_reply": "2025-06-16T12:54:32.199970Z",
     "shell.execute_reply.started": "2025-06-16T12:54:32.197159Z"
    }
   },
   "outputs": [
    {
     "data": {
      "text/plain": [
       "(307504, 80)"
      ]
     },
     "execution_count": 39,
     "metadata": {},
     "output_type": "execute_result"
    }
   ],
   "source": [
    "df_updated.shape"
   ]
  },
  {
   "cell_type": "code",
   "execution_count": 40,
   "id": "6d6fc2dc-332f-41dc-a8b1-bbfee31421ad",
   "metadata": {
    "execution": {
     "iopub.execute_input": "2025-06-16T12:54:32.201326Z",
     "iopub.status.busy": "2025-06-16T12:54:32.200911Z",
     "iopub.status.idle": "2025-06-16T12:54:32.298174Z",
     "shell.execute_reply": "2025-06-16T12:54:32.297668Z",
     "shell.execute_reply.started": "2025-06-16T12:54:32.201304Z"
    }
   },
   "outputs": [],
   "source": [
    "bool_columns = df_updated.select_dtypes(include='bool').columns\n",
    "df_updated[bool_columns] = df_updated[bool_columns].astype(int)"
   ]
  },
  {
   "cell_type": "code",
   "execution_count": 41,
   "id": "63e55658-3471-4f4f-ac66-88dd69b01082",
   "metadata": {
    "execution": {
     "iopub.execute_input": "2025-06-16T12:54:32.301593Z",
     "iopub.status.busy": "2025-06-16T12:54:32.301334Z",
     "iopub.status.idle": "2025-06-16T12:54:32.339611Z",
     "shell.execute_reply": "2025-06-16T12:54:32.339143Z",
     "shell.execute_reply.started": "2025-06-16T12:54:32.301574Z"
    }
   },
   "outputs": [
    {
     "name": "stdout",
     "output_type": "stream",
     "text": [
      "<class 'pandas.core.frame.DataFrame'>\n",
      "Index: 307504 entries, 0 to 307510\n",
      "Data columns (total 80 columns):\n",
      " #   Column                                 Non-Null Count   Dtype  \n",
      "---  ------                                 --------------   -----  \n",
      " 0   TARGET                                 307504 non-null  int64  \n",
      " 1   FLAG_EMP_PHONE                         307504 non-null  int64  \n",
      " 2   FLAG_WORK_PHONE                        307504 non-null  int64  \n",
      " 3   FLAG_CONT_MOBILE                       307504 non-null  int64  \n",
      " 4   FLAG_PHONE                             307504 non-null  int64  \n",
      " 5   FLAG_EMAIL                             307504 non-null  int64  \n",
      " 6   REGION_RATING_CLIENT                   307504 non-null  int64  \n",
      " 7   REGION_RATING_CLIENT_W_CITY            307504 non-null  int64  \n",
      " 8   REG_REGION_NOT_LIVE_REGION             307504 non-null  int64  \n",
      " 9   REG_REGION_NOT_WORK_REGION             307504 non-null  int64  \n",
      " 10  LIVE_REGION_NOT_WORK_REGION            307504 non-null  int64  \n",
      " 11  REG_CITY_NOT_LIVE_CITY                 307504 non-null  int64  \n",
      " 12  REG_CITY_NOT_WORK_CITY                 307504 non-null  int64  \n",
      " 13  LIVE_CITY_NOT_WORK_CITY                307504 non-null  int64  \n",
      " 14  CNT_CHILDREN                           307504 non-null  int64  \n",
      " 15  CNT_FAM_MEMBERS                        307504 non-null  float64\n",
      " 16  AMT_REQ_CREDIT_BUREAU_YEAR             307504 non-null  float64\n",
      " 17  FLAG_DOCUMENT_3                        307504 non-null  int64  \n",
      " 18  NAME_CONTRACT_TYPE                     307504 non-null  int64  \n",
      " 19  FLAG_OWN_CAR                           307504 non-null  int64  \n",
      " 20  FLAG_OWN_REALTY                        307504 non-null  int64  \n",
      " 21  NAME_EDUCATION_TYPE                    307504 non-null  int64  \n",
      " 22  NAME_FAMILY_STATUS                     307504 non-null  int64  \n",
      " 23  AMT_INCOME_TOTAL                       307504 non-null  float64\n",
      " 24  AMT_CREDIT                             307504 non-null  float64\n",
      " 25  AMT_ANNUITY                            307504 non-null  float64\n",
      " 26  AMT_GOODS_PRICE                        307504 non-null  float64\n",
      " 27  REGION_POPULATION_RELATIVE             307504 non-null  float64\n",
      " 28  EXT_SOURCE_1                           307504 non-null  float64\n",
      " 29  EXT_SOURCE_2                           307504 non-null  float64\n",
      " 30  EXT_SOURCE_3                           307504 non-null  float64\n",
      " 31  HAS_MANY_CHILDREN                      307504 non-null  int64  \n",
      " 32  HAS_LARGE_FAMILY                       307504 non-null  int64  \n",
      " 33  HAS_HIGH_CREDIT_REQ                    307504 non-null  int64  \n",
      " 34  CODE_GENDER_M                          307504 non-null  int64  \n",
      " 35  NAME_INCOME_TYPE_Commercial associate  307504 non-null  int64  \n",
      " 36  NAME_INCOME_TYPE_Other                 307504 non-null  int64  \n",
      " 37  NAME_INCOME_TYPE_Pensioner             307504 non-null  int64  \n",
      " 38  NAME_INCOME_TYPE_State servant         307504 non-null  int64  \n",
      " 39  NAME_HOUSING_TYPE_Co-op apartment      307504 non-null  int64  \n",
      " 40  NAME_HOUSING_TYPE_Municipal apartment  307504 non-null  int64  \n",
      " 41  NAME_HOUSING_TYPE_Office apartment     307504 non-null  int64  \n",
      " 42  NAME_HOUSING_TYPE_Rented apartment     307504 non-null  int64  \n",
      " 43  NAME_HOUSING_TYPE_With parents         307504 non-null  int64  \n",
      " 44  ORG_TYPE_Business Entity Type 1        307504 non-null  int64  \n",
      " 45  ORG_TYPE_Business Entity Type 2        307504 non-null  int64  \n",
      " 46  ORG_TYPE_Construction                  307504 non-null  int64  \n",
      " 47  ORG_TYPE_Government                    307504 non-null  int64  \n",
      " 48  ORG_TYPE_Industry: type 3              307504 non-null  int64  \n",
      " 49  ORG_TYPE_Industry: type 9              307504 non-null  int64  \n",
      " 50  ORG_TYPE_Kindergarten                  307504 non-null  int64  \n",
      " 51  ORG_TYPE_Medicine                      307504 non-null  int64  \n",
      " 52  ORG_TYPE_Other                         307504 non-null  int64  \n",
      " 53  ORG_TYPE_School                        307504 non-null  int64  \n",
      " 54  ORG_TYPE_Security                      307504 non-null  int64  \n",
      " 55  ORG_TYPE_Self-employed                 307504 non-null  int64  \n",
      " 56  ORG_TYPE_Trade: type 3                 307504 non-null  int64  \n",
      " 57  ORG_TYPE_Trade: type 7                 307504 non-null  int64  \n",
      " 58  ORG_TYPE_Transport: type 4             307504 non-null  int64  \n",
      " 59  ORG_TYPE_Unknown                       307504 non-null  int64  \n",
      " 60  OCC_TYPE_Accountants                   307504 non-null  int64  \n",
      " 61  OCC_TYPE_Cleaning staff                307504 non-null  int64  \n",
      " 62  OCC_TYPE_Cooking staff                 307504 non-null  int64  \n",
      " 63  OCC_TYPE_Core staff                    307504 non-null  int64  \n",
      " 64  OCC_TYPE_Drivers                       307504 non-null  int64  \n",
      " 65  OCC_TYPE_High skill tech staff         307504 non-null  int64  \n",
      " 66  OCC_TYPE_Laborers                      307504 non-null  int64  \n",
      " 67  OCC_TYPE_Managers                      307504 non-null  int64  \n",
      " 68  OCC_TYPE_Medicine staff                307504 non-null  int64  \n",
      " 69  OCC_TYPE_Other                         307504 non-null  int64  \n",
      " 70  OCC_TYPE_Sales staff                   307504 non-null  int64  \n",
      " 71  OCC_TYPE_Security staff                307504 non-null  int64  \n",
      " 72  EXT_SOURCE_1_MISSING                   307504 non-null  int64  \n",
      " 73  EXT_SOURCE_3_MISSING                   307504 non-null  int64  \n",
      " 74  DAYS_EMPLOYED_MISSING                  307504 non-null  int64  \n",
      " 75  EMPLOYMENT_YEARS                       307504 non-null  float64\n",
      " 76  AGE_YEARS                              307504 non-null  float64\n",
      " 77  REGISTRATION_YEARS                     307504 non-null  float64\n",
      " 78  ID_PUBLISH_YEARS                       307504 non-null  float64\n",
      " 79  LAST_PHONE_CHANGE_YEARS                307504 non-null  float64\n",
      "dtypes: float64(15), int64(65)\n",
      "memory usage: 190.0 MB\n"
     ]
    }
   ],
   "source": [
    "df_updated.info()"
   ]
  },
  {
   "cell_type": "code",
   "execution_count": 42,
   "id": "c135e563-523b-4934-9155-f615a32765a5",
   "metadata": {
    "execution": {
     "iopub.execute_input": "2025-06-16T12:54:32.340334Z",
     "iopub.status.busy": "2025-06-16T12:54:32.340144Z",
     "iopub.status.idle": "2025-06-16T12:54:32.344375Z",
     "shell.execute_reply": "2025-06-16T12:54:32.343922Z",
     "shell.execute_reply.started": "2025-06-16T12:54:32.340318Z"
    }
   },
   "outputs": [
    {
     "data": {
      "text/plain": [
       "['TARGET',\n",
       " 'FLAG_EMP_PHONE',\n",
       " 'FLAG_WORK_PHONE',\n",
       " 'FLAG_CONT_MOBILE',\n",
       " 'FLAG_PHONE',\n",
       " 'FLAG_EMAIL',\n",
       " 'REGION_RATING_CLIENT',\n",
       " 'REGION_RATING_CLIENT_W_CITY',\n",
       " 'REG_REGION_NOT_LIVE_REGION',\n",
       " 'REG_REGION_NOT_WORK_REGION',\n",
       " 'LIVE_REGION_NOT_WORK_REGION',\n",
       " 'REG_CITY_NOT_LIVE_CITY',\n",
       " 'REG_CITY_NOT_WORK_CITY',\n",
       " 'LIVE_CITY_NOT_WORK_CITY',\n",
       " 'CNT_CHILDREN',\n",
       " 'CNT_FAM_MEMBERS',\n",
       " 'AMT_REQ_CREDIT_BUREAU_YEAR',\n",
       " 'FLAG_DOCUMENT_3',\n",
       " 'NAME_CONTRACT_TYPE',\n",
       " 'FLAG_OWN_CAR',\n",
       " 'FLAG_OWN_REALTY',\n",
       " 'NAME_EDUCATION_TYPE',\n",
       " 'NAME_FAMILY_STATUS',\n",
       " 'AMT_INCOME_TOTAL',\n",
       " 'AMT_CREDIT',\n",
       " 'AMT_ANNUITY',\n",
       " 'AMT_GOODS_PRICE',\n",
       " 'REGION_POPULATION_RELATIVE',\n",
       " 'EXT_SOURCE_1',\n",
       " 'EXT_SOURCE_2',\n",
       " 'EXT_SOURCE_3',\n",
       " 'HAS_MANY_CHILDREN',\n",
       " 'HAS_LARGE_FAMILY',\n",
       " 'HAS_HIGH_CREDIT_REQ',\n",
       " 'CODE_GENDER_M',\n",
       " 'NAME_INCOME_TYPE_Commercial associate',\n",
       " 'NAME_INCOME_TYPE_Other',\n",
       " 'NAME_INCOME_TYPE_Pensioner',\n",
       " 'NAME_INCOME_TYPE_State servant',\n",
       " 'NAME_HOUSING_TYPE_Co-op apartment',\n",
       " 'NAME_HOUSING_TYPE_Municipal apartment',\n",
       " 'NAME_HOUSING_TYPE_Office apartment',\n",
       " 'NAME_HOUSING_TYPE_Rented apartment',\n",
       " 'NAME_HOUSING_TYPE_With parents',\n",
       " 'ORG_TYPE_Business Entity Type 1',\n",
       " 'ORG_TYPE_Business Entity Type 2',\n",
       " 'ORG_TYPE_Construction',\n",
       " 'ORG_TYPE_Government',\n",
       " 'ORG_TYPE_Industry: type 3',\n",
       " 'ORG_TYPE_Industry: type 9',\n",
       " 'ORG_TYPE_Kindergarten',\n",
       " 'ORG_TYPE_Medicine',\n",
       " 'ORG_TYPE_Other',\n",
       " 'ORG_TYPE_School',\n",
       " 'ORG_TYPE_Security',\n",
       " 'ORG_TYPE_Self-employed',\n",
       " 'ORG_TYPE_Trade: type 3',\n",
       " 'ORG_TYPE_Trade: type 7',\n",
       " 'ORG_TYPE_Transport: type 4',\n",
       " 'ORG_TYPE_Unknown',\n",
       " 'OCC_TYPE_Accountants',\n",
       " 'OCC_TYPE_Cleaning staff',\n",
       " 'OCC_TYPE_Cooking staff',\n",
       " 'OCC_TYPE_Core staff',\n",
       " 'OCC_TYPE_Drivers',\n",
       " 'OCC_TYPE_High skill tech staff',\n",
       " 'OCC_TYPE_Laborers',\n",
       " 'OCC_TYPE_Managers',\n",
       " 'OCC_TYPE_Medicine staff',\n",
       " 'OCC_TYPE_Other',\n",
       " 'OCC_TYPE_Sales staff',\n",
       " 'OCC_TYPE_Security staff',\n",
       " 'EXT_SOURCE_1_MISSING',\n",
       " 'EXT_SOURCE_3_MISSING',\n",
       " 'DAYS_EMPLOYED_MISSING',\n",
       " 'EMPLOYMENT_YEARS',\n",
       " 'AGE_YEARS',\n",
       " 'REGISTRATION_YEARS',\n",
       " 'ID_PUBLISH_YEARS',\n",
       " 'LAST_PHONE_CHANGE_YEARS']"
      ]
     },
     "execution_count": 42,
     "metadata": {},
     "output_type": "execute_result"
    }
   ],
   "source": [
    "df_updated.columns.tolist()"
   ]
  },
  {
   "cell_type": "code",
   "execution_count": 43,
   "id": "2084484a-8ac6-40af-93fc-a0fa06b46cdd",
   "metadata": {
    "execution": {
     "iopub.execute_input": "2025-06-16T12:54:32.345315Z",
     "iopub.status.busy": "2025-06-16T12:54:32.344912Z",
     "iopub.status.idle": "2025-06-16T12:54:33.763037Z",
     "shell.execute_reply": "2025-06-16T12:54:33.762406Z",
     "shell.execute_reply.started": "2025-06-16T12:54:32.345297Z"
    }
   },
   "outputs": [
    {
     "name": "stdout",
     "output_type": "stream",
     "text": [
      "Requirement already satisfied: imbalanced-learn in /opt/conda/lib/python3.12/site-packages (0.13.0)\n",
      "Requirement already satisfied: numpy<3,>=1.24.3 in /opt/conda/lib/python3.12/site-packages (from imbalanced-learn) (1.26.4)\n",
      "Requirement already satisfied: scipy<2,>=1.10.1 in /opt/conda/lib/python3.12/site-packages (from imbalanced-learn) (1.15.2)\n",
      "Requirement already satisfied: scikit-learn<2,>=1.3.2 in /opt/conda/lib/python3.12/site-packages (from imbalanced-learn) (1.6.1)\n",
      "Requirement already satisfied: sklearn-compat<1,>=0.1 in /opt/conda/lib/python3.12/site-packages (from imbalanced-learn) (0.1.3)\n",
      "Requirement already satisfied: joblib<2,>=1.1.1 in /opt/conda/lib/python3.12/site-packages (from imbalanced-learn) (1.5.0)\n",
      "Requirement already satisfied: threadpoolctl<4,>=2.0.0 in /opt/conda/lib/python3.12/site-packages (from imbalanced-learn) (3.6.0)\n",
      "Note: you may need to restart the kernel to use updated packages.\n"
     ]
    }
   ],
   "source": [
    "pip install imbalanced-learn"
   ]
  },
  {
   "cell_type": "code",
   "execution_count": 44,
   "id": "d4a58953-72cd-42a1-81cb-585c0d09af09",
   "metadata": {
    "execution": {
     "iopub.execute_input": "2025-06-16T12:54:33.764173Z",
     "iopub.status.busy": "2025-06-16T12:54:33.763881Z",
     "iopub.status.idle": "2025-06-16T12:54:34.179271Z",
     "shell.execute_reply": "2025-06-16T12:54:34.178768Z",
     "shell.execute_reply.started": "2025-06-16T12:54:33.764149Z"
    }
   },
   "outputs": [],
   "source": [
    "from imblearn.over_sampling import SMOTENC"
   ]
  },
  {
   "cell_type": "code",
   "execution_count": 45,
   "id": "89b0626f-53f3-436a-a128-4c85823ae4ac",
   "metadata": {
    "execution": {
     "iopub.execute_input": "2025-06-16T12:54:34.180307Z",
     "iopub.status.busy": "2025-06-16T12:54:34.179905Z",
     "iopub.status.idle": "2025-06-16T12:54:34.289977Z",
     "shell.execute_reply": "2025-06-16T12:54:34.289463Z",
     "shell.execute_reply.started": "2025-06-16T12:54:34.180286Z"
    }
   },
   "outputs": [],
   "source": [
    "X = df_updated.drop('TARGET', axis=1)  \n",
    "y = df_updated['TARGET']"
   ]
  },
  {
   "cell_type": "code",
   "execution_count": 46,
   "id": "78da62a8-ed1c-4a89-90ff-74995092e323",
   "metadata": {
    "execution": {
     "iopub.execute_input": "2025-06-16T12:54:34.291217Z",
     "iopub.status.busy": "2025-06-16T12:54:34.290616Z",
     "iopub.status.idle": "2025-06-16T12:54:34.295281Z",
     "shell.execute_reply": "2025-06-16T12:54:34.294834Z",
     "shell.execute_reply.started": "2025-06-16T12:54:34.291197Z"
    }
   },
   "outputs": [],
   "source": [
    "categorical_cols =['FLAG_EMP_PHONE',\n",
    " 'FLAG_WORK_PHONE',\n",
    " 'FLAG_CONT_MOBILE',\n",
    " 'FLAG_PHONE',\n",
    " 'FLAG_EMAIL',\n",
    " 'REGION_RATING_CLIENT',\n",
    " 'REGION_RATING_CLIENT_W_CITY',\n",
    " 'REG_REGION_NOT_LIVE_REGION',\n",
    " 'REG_REGION_NOT_WORK_REGION',\n",
    " 'LIVE_REGION_NOT_WORK_REGION',\n",
    " 'REG_CITY_NOT_LIVE_CITY',\n",
    " 'REG_CITY_NOT_WORK_CITY',\n",
    " 'LIVE_CITY_NOT_WORK_CITY',\n",
    " 'CNT_CHILDREN',\n",
    " 'CNT_FAM_MEMBERS',\n",
    " 'AMT_REQ_CREDIT_BUREAU_YEAR',\n",
    " 'FLAG_DOCUMENT_3',\n",
    " 'NAME_CONTRACT_TYPE',\n",
    " 'FLAG_OWN_CAR',\n",
    " 'FLAG_OWN_REALTY',\n",
    " 'NAME_EDUCATION_TYPE',\n",
    " 'NAME_FAMILY_STATUS',\n",
    " 'HAS_MANY_CHILDREN',\n",
    " 'HAS_LARGE_FAMILY',\n",
    " 'HAS_HIGH_CREDIT_REQ',\n",
    " 'CODE_GENDER_M',\n",
    " 'NAME_INCOME_TYPE_Commercial associate',\n",
    " 'NAME_INCOME_TYPE_Other',\n",
    " 'NAME_INCOME_TYPE_Pensioner',\n",
    " 'NAME_INCOME_TYPE_State servant',\n",
    " 'NAME_HOUSING_TYPE_Co-op apartment',\n",
    " 'NAME_HOUSING_TYPE_Municipal apartment',\n",
    " 'NAME_HOUSING_TYPE_Office apartment',\n",
    " 'NAME_HOUSING_TYPE_Rented apartment',\n",
    " 'NAME_HOUSING_TYPE_With parents',\n",
    " 'ORG_TYPE_Business Entity Type 1',\n",
    " 'ORG_TYPE_Business Entity Type 2',\n",
    " 'ORG_TYPE_Construction',\n",
    " 'ORG_TYPE_Government',\n",
    " 'ORG_TYPE_Industry: type 3',\n",
    " 'ORG_TYPE_Industry: type 9',\n",
    " 'ORG_TYPE_Kindergarten',\n",
    " 'ORG_TYPE_Medicine',\n",
    " 'ORG_TYPE_Other',\n",
    " 'ORG_TYPE_School',\n",
    " 'ORG_TYPE_Security',\n",
    " 'ORG_TYPE_Self-employed',\n",
    " 'ORG_TYPE_Trade: type 3',\n",
    " 'ORG_TYPE_Trade: type 7',\n",
    " 'ORG_TYPE_Transport: type 4',\n",
    " 'ORG_TYPE_Unknown',\n",
    " 'OCC_TYPE_Accountants',\n",
    " 'OCC_TYPE_Cleaning staff',\n",
    " 'OCC_TYPE_Cooking staff',\n",
    " 'OCC_TYPE_Core staff',\n",
    " 'OCC_TYPE_Drivers',\n",
    " 'OCC_TYPE_High skill tech staff',\n",
    " 'OCC_TYPE_Laborers',\n",
    " 'OCC_TYPE_Managers',\n",
    " 'OCC_TYPE_Medicine staff',\n",
    " 'OCC_TYPE_Other',\n",
    " 'OCC_TYPE_Sales staff',\n",
    " 'OCC_TYPE_Security staff',\n",
    " 'EXT_SOURCE_1_MISSING',\n",
    " 'EXT_SOURCE_3_MISSING',\n",
    " 'DAYS_EMPLOYED_MISSING']\n",
    "\n",
    "categorical_indices = [X.columns.get_loc(col) for col in categorical_cols]"
   ]
  },
  {
   "cell_type": "code",
   "execution_count": 47,
   "id": "4da15a6f-b769-4250-b6e6-906062e433fb",
   "metadata": {
    "execution": {
     "iopub.execute_input": "2025-06-16T12:54:34.296358Z",
     "iopub.status.busy": "2025-06-16T12:54:34.295938Z",
     "iopub.status.idle": "2025-06-16T13:00:01.805904Z",
     "shell.execute_reply": "2025-06-16T13:00:01.805401Z",
     "shell.execute_reply.started": "2025-06-16T12:54:34.296332Z"
    }
   },
   "outputs": [],
   "source": [
    "smote_nc = SMOTENC(categorical_features=categorical_indices, random_state=42)\n",
    "\n",
    "X_resampled, y_resampled = smote_nc.fit_resample(X, y)\n"
   ]
  },
  {
   "cell_type": "code",
   "execution_count": 48,
   "id": "f4f03db0-848a-4a12-abe8-8ac87afb3dc8",
   "metadata": {
    "execution": {
     "iopub.execute_input": "2025-06-16T13:00:01.806786Z",
     "iopub.status.busy": "2025-06-16T13:00:01.806535Z",
     "iopub.status.idle": "2025-06-16T13:00:01.816235Z",
     "shell.execute_reply": "2025-06-16T13:00:01.815773Z",
     "shell.execute_reply.started": "2025-06-16T13:00:01.806768Z"
    }
   },
   "outputs": [
    {
     "name": "stdout",
     "output_type": "stream",
     "text": [
      "Before Resampling:\n",
      "TARGET\n",
      "0    0.919269\n",
      "1    0.080731\n",
      "Name: proportion, dtype: float64\n",
      "\n",
      "After Resampling:\n",
      "TARGET\n",
      "1    0.5\n",
      "0    0.5\n",
      "Name: proportion, dtype: float64\n"
     ]
    }
   ],
   "source": [
    "print(\"Before Resampling:\")\n",
    "print(y.value_counts(normalize=True))\n",
    "\n",
    "print(\"\\nAfter Resampling:\")\n",
    "print(pd.Series(y_resampled).value_counts(normalize=True))\n"
   ]
  },
  {
   "cell_type": "code",
   "execution_count": 49,
   "id": "9f3a9e58-23cf-49cb-b7e9-2fbb98d8def6",
   "metadata": {
    "execution": {
     "iopub.execute_input": "2025-06-16T13:00:01.817023Z",
     "iopub.status.busy": "2025-06-16T13:00:01.816783Z",
     "iopub.status.idle": "2025-06-16T13:00:01.821822Z",
     "shell.execute_reply": "2025-06-16T13:00:01.821390Z",
     "shell.execute_reply.started": "2025-06-16T13:00:01.817006Z"
    }
   },
   "outputs": [],
   "source": [
    "X_balanced = pd.DataFrame(X_resampled, columns=X.columns)\n",
    "y_balanced = pd.Series(y_resampled)"
   ]
  },
  {
   "cell_type": "code",
   "execution_count": 50,
   "id": "625ea05f-1388-4e0d-b718-fb31af824775",
   "metadata": {
    "execution": {
     "iopub.execute_input": "2025-06-16T13:00:01.822588Z",
     "iopub.status.busy": "2025-06-16T13:00:01.822359Z",
     "iopub.status.idle": "2025-06-16T13:00:01.827177Z",
     "shell.execute_reply": "2025-06-16T13:00:01.826775Z",
     "shell.execute_reply.started": "2025-06-16T13:00:01.822571Z"
    }
   },
   "outputs": [
    {
     "data": {
      "text/plain": [
       "(565358, 79)"
      ]
     },
     "execution_count": 50,
     "metadata": {},
     "output_type": "execute_result"
    }
   ],
   "source": [
    "X_balanced.shape"
   ]
  },
  {
   "cell_type": "code",
   "execution_count": null,
   "id": "89f0711a-e697-4d9e-ac0b-a4cdde32832a",
   "metadata": {},
   "outputs": [],
   "source": []
  },
  {
   "cell_type": "code",
   "execution_count": null,
   "id": "4f27716a-6565-42c4-a4c4-bee0505e62d5",
   "metadata": {},
   "outputs": [],
   "source": []
  }
 ],
 "metadata": {
  "kernelspec": {
   "display_name": "Python 3 (ipykernel)",
   "language": "python",
   "name": "python3"
  },
  "language_info": {
   "codemirror_mode": {
    "name": "ipython",
    "version": 3
   },
   "file_extension": ".py",
   "mimetype": "text/x-python",
   "name": "python",
   "nbconvert_exporter": "python",
   "pygments_lexer": "ipython3",
   "version": "3.12.9"
  }
 },
 "nbformat": 4,
 "nbformat_minor": 5
}
